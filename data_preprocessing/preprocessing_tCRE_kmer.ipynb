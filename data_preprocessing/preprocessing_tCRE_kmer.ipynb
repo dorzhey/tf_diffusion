{
 "cells": [
  {
   "cell_type": "code",
   "execution_count": 1,
   "metadata": {
    "metadata": {}
   },
   "outputs": [
    {
     "name": "stderr",
     "output_type": "stream",
     "text": [
      "/root/.local/lib/python3.10/site-packages/tqdm/auto.py:21: TqdmWarning: IProgress not found. Please update jupyter and ipywidgets. See https://ipywidgets.readthedocs.io/en/stable/user_install.html\n",
      "  from .autonotebook import tqdm as notebook_tqdm\n"
     ]
    }
   ],
   "source": [
    "import pandas as pd\n",
    "import muon as mu\n",
    "import scanpy as sc\n",
    "from muon import atac as ac\n",
    "import numpy as np\n",
    "import warnings\n",
    "import pychromvar as pc\n",
    "import sys\n",
    "import os\n",
    "import pickle"
   ]
  },
  {
   "cell_type": "code",
   "execution_count": 43,
   "metadata": {
    "metadata": {}
   },
   "outputs": [],
   "source": [
    "file_dir = os.path.abspath('')\n",
    "data_path = os.path.join(file_dir, '..', '..', 're_design', '10x_data')\n",
    "\n",
    "h5_file_path = os.path.join(data_path, 'pbmc3k_multi.h5mu')\n",
    "save_path = os.path.join(file_dir, 'generated_data')"
   ]
  },
  {
   "cell_type": "code",
   "execution_count": 44,
   "metadata": {},
   "outputs": [
    {
     "data": {
      "text/html": [
       "<pre>MuData object with n_obs × n_vars = 3217 × 32907\n",
       "  obs:\t&#x27;leiden_wnn&#x27;\n",
       "  uns:\t&#x27;leiden&#x27;, &#x27;leiden_wnn_colors&#x27;, &#x27;umap&#x27;, &#x27;wnn&#x27;\n",
       "  obsm:\t&#x27;X_umap&#x27;, &#x27;X_wnn_umap&#x27;\n",
       "  obsp:\t&#x27;wnn_connectivities&#x27;, &#x27;wnn_distances&#x27;\n",
       "  3 modalities\n",
       "    gene:\t3217 x 15863\n",
       "      obs:\t&#x27;n_genes_by_counts&#x27;, &#x27;total_counts&#x27;, &#x27;total_counts_mt&#x27;, &#x27;pct_counts_mt&#x27;, &#x27;leiden_umap&#x27;, &#x27;leiden_euclidean&#x27;, &#x27;leiden_wnn&#x27;, &#x27;tf_leiden_umap&#x27;, &#x27;tf_leiden_euclidean&#x27;\n",
       "      var:\t&#x27;gene_ids&#x27;, &#x27;feature_types&#x27;, &#x27;mt&#x27;, &#x27;n_cells_by_counts&#x27;, &#x27;mean_counts&#x27;, &#x27;pct_dropout_by_counts&#x27;, &#x27;total_counts&#x27;, &#x27;highly_variable&#x27;, &#x27;means&#x27;, &#x27;dispersions&#x27;, &#x27;dispersions_norm&#x27;, &#x27;mean&#x27;, &#x27;std&#x27;, &#x27;gene_ids_simple&#x27;, &#x27;tf&#x27;\n",
       "      uns:\t&#x27;hvg&#x27;, &#x27;leiden&#x27;, &#x27;leiden_umap_colors&#x27;, &#x27;leiden_umap_sizes&#x27;, &#x27;log1p&#x27;, &#x27;neighbors_euclidean&#x27;, &#x27;neighbors_umap&#x27;, &#x27;paga&#x27;, &#x27;pca&#x27;, &#x27;rank_loci_groups&#x27;, &#x27;tf_neighbors_euclidean&#x27;, &#x27;tf_neighbors_umap&#x27;, &#x27;umap&#x27;\n",
       "      obsm:\t&#x27;X_pca&#x27;, &#x27;X_umap&#x27;, &#x27;tf_pca&#x27;\n",
       "      varm:\t&#x27;PCs&#x27;\n",
       "      layers:\t&#x27;counts&#x27;\n",
       "      obsp:\t&#x27;neighbors_euclidean_connectivities&#x27;, &#x27;neighbors_euclidean_distances&#x27;, &#x27;neighbors_umap_connectivities&#x27;, &#x27;neighbors_umap_distances&#x27;, &#x27;tf_neighbors_umap_connectivities&#x27;, &#x27;tf_neighbors_umap_distances&#x27;\n",
       "    cre:\t3217 x 16298\n",
       "      obs:\t&#x27;n_genes_by_counts&#x27;, &#x27;total_counts&#x27;, &#x27;avg_frag_length&#x27;, &#x27;leiden_umap&#x27;, &#x27;leiden_umap20&#x27;, &#x27;leiden_umap50&#x27;, &#x27;leiden_euclidean&#x27;, &#x27;leiden_wnn&#x27;\n",
       "      var:\t&#x27;directionality&#x27;, &#x27;orientation&#x27;, &#x27;bias_strand&#x27;, &#x27;fwd_count&#x27;, &#x27;rev_count&#x27;, &#x27;chrom&#x27;, &#x27;summit_center&#x27;, &#x27;abs_summit_diff&#x27;, &#x27;oritn_summit_diff&#x27;, &#x27;start&#x27;, &#x27;end&#x27;, &#x27;strand&#x27;, &#x27;n_cells_by_counts&#x27;, &#x27;mean_counts&#x27;, &#x27;pct_dropout_by_counts&#x27;, &#x27;total_counts&#x27;, &#x27;highly_variable&#x27;, &#x27;means&#x27;, &#x27;dispersions&#x27;, &#x27;dispersions_norm&#x27;, &#x27;frag_length&#x27;, &#x27;gc_bias&#x27;\n",
       "      uns:\t&#x27;hvg&#x27;, &#x27;leiden&#x27;, &#x27;leiden_euclidean_colors&#x27;, &#x27;leiden_umap_colors&#x27;, &#x27;leiden_umap_sizes&#x27;, &#x27;log1p&#x27;, &#x27;motif_name&#x27;, &#x27;neighbors_euclidean&#x27;, &#x27;neighbors_umap&#x27;, &#x27;paga&#x27;, &#x27;pca&#x27;, &#x27;peak_seq&#x27;, &#x27;rank_loci_groups&#x27;, &#x27;umap&#x27;\n",
       "      obsm:\t&#x27;X_pca&#x27;, &#x27;X_umap&#x27;\n",
       "      varm:\t&#x27;PCs&#x27;, &#x27;bg_peaks&#x27;, &#x27;motif_match&#x27;\n",
       "      layers:\t&#x27;counts&#x27;\n",
       "      obsp:\t&#x27;neighbors_euclidean_connectivities&#x27;, &#x27;neighbors_euclidean_distances&#x27;, &#x27;neighbors_umap_connectivities&#x27;, &#x27;neighbors_umap_distances&#x27;\n",
       "    chromvar:\t3217 x 746\n",
       "      obs:\t&#x27;leiden_wnn&#x27;\n",
       "      uns:\t&#x27;rank_genes_groups&#x27;</pre>"
      ],
      "text/plain": [
       "MuData object with n_obs × n_vars = 3217 × 32907\n",
       "  obs:\t'leiden_wnn'\n",
       "  uns:\t'leiden', 'leiden_wnn_colors', 'umap', 'wnn'\n",
       "  obsm:\t'X_umap', 'X_wnn_umap'\n",
       "  obsp:\t'wnn_connectivities', 'wnn_distances'\n",
       "  3 modalities\n",
       "    gene:\t3217 x 15863\n",
       "      obs:\t'n_genes_by_counts', 'total_counts', 'total_counts_mt', 'pct_counts_mt', 'leiden_umap', 'leiden_euclidean', 'leiden_wnn', 'tf_leiden_umap', 'tf_leiden_euclidean'\n",
       "      var:\t'gene_ids', 'feature_types', 'mt', 'n_cells_by_counts', 'mean_counts', 'pct_dropout_by_counts', 'total_counts', 'highly_variable', 'means', 'dispersions', 'dispersions_norm', 'mean', 'std', 'gene_ids_simple', 'tf'\n",
       "      uns:\t'hvg', 'leiden', 'leiden_umap_colors', 'leiden_umap_sizes', 'log1p', 'neighbors_euclidean', 'neighbors_umap', 'paga', 'pca', 'rank_loci_groups', 'tf_neighbors_euclidean', 'tf_neighbors_umap', 'umap'\n",
       "      obsm:\t'X_pca', 'X_umap', 'tf_pca'\n",
       "      varm:\t'PCs'\n",
       "      layers:\t'counts'\n",
       "      obsp:\t'neighbors_euclidean_connectivities', 'neighbors_euclidean_distances', 'neighbors_umap_connectivities', 'neighbors_umap_distances', 'tf_neighbors_umap_connectivities', 'tf_neighbors_umap_distances'\n",
       "    cre:\t3217 x 16298\n",
       "      obs:\t'n_genes_by_counts', 'total_counts', 'avg_frag_length', 'leiden_umap', 'leiden_umap20', 'leiden_umap50', 'leiden_euclidean', 'leiden_wnn'\n",
       "      var:\t'directionality', 'orientation', 'bias_strand', 'fwd_count', 'rev_count', 'chrom', 'summit_center', 'abs_summit_diff', 'oritn_summit_diff', 'start', 'end', 'strand', 'n_cells_by_counts', 'mean_counts', 'pct_dropout_by_counts', 'total_counts', 'highly_variable', 'means', 'dispersions', 'dispersions_norm', 'frag_length', 'gc_bias'\n",
       "      uns:\t'hvg', 'leiden', 'leiden_euclidean_colors', 'leiden_umap_colors', 'leiden_umap_sizes', 'log1p', 'motif_name', 'neighbors_euclidean', 'neighbors_umap', 'paga', 'pca', 'peak_seq', 'rank_loci_groups', 'umap'\n",
       "      obsm:\t'X_pca', 'X_umap'\n",
       "      varm:\t'PCs', 'bg_peaks', 'motif_match'\n",
       "      layers:\t'counts'\n",
       "      obsp:\t'neighbors_euclidean_connectivities', 'neighbors_euclidean_distances', 'neighbors_umap_connectivities', 'neighbors_umap_distances'\n",
       "    chromvar:\t3217 x 746\n",
       "      obs:\t'leiden_wnn'\n",
       "      uns:\t'rank_genes_groups'"
      ]
     },
     "execution_count": 44,
     "metadata": {},
     "output_type": "execute_result"
    }
   ],
   "source": [
    "with warnings.catch_warnings():\n",
    "    warnings.simplefilter(\"ignore\")\n",
    "    mdata = mu.read_h5mu(h5_file_path)\n",
    "mdata"
   ]
  },
  {
   "cell_type": "markdown",
   "metadata": {},
   "source": [
    "# Kmer clustering"
   ]
  },
  {
   "cell_type": "code",
   "execution_count": 45,
   "metadata": {},
   "outputs": [],
   "source": [
    "def cut_sequences_midpoint(data, seqlen):\n",
    "    half = round(seqlen/2)\n",
    "    for idx, row in data.iterrows():\n",
    "        ms = row['summit_center'] - row['start'] # mid - start\n",
    "        em = row['end'] - row['summit_center'] # end - mid\n",
    "        seq = row['sequence']\n",
    "        if ms < half:\n",
    "            data.loc[idx, 'sequence'] = seq[:seqlen]\n",
    "        elif em < half:\n",
    "            data.loc[idx, 'sequence'] = seq[-seqlen:]\n",
    "        else:\n",
    "            data.loc[idx, 'sequence'] = seq[ms-half:ms+half]\n",
    "    return data"
   ]
  },
  {
   "cell_type": "code",
   "execution_count": 46,
   "metadata": {},
   "outputs": [],
   "source": [
    "seq_len = 200"
   ]
  },
  {
   "cell_type": "code",
   "execution_count": 47,
   "metadata": {},
   "outputs": [
    {
     "data": {
      "text/html": [
       "<div>\n",
       "<style scoped>\n",
       "    .dataframe tbody tr th:only-of-type {\n",
       "        vertical-align: middle;\n",
       "    }\n",
       "\n",
       "    .dataframe tbody tr th {\n",
       "        vertical-align: top;\n",
       "    }\n",
       "\n",
       "    .dataframe thead th {\n",
       "        text-align: right;\n",
       "    }\n",
       "</style>\n",
       "<table border=\"1\" class=\"dataframe\">\n",
       "  <thead>\n",
       "    <tr style=\"text-align: right;\">\n",
       "      <th></th>\n",
       "      <th>peak</th>\n",
       "      <th>chrom</th>\n",
       "      <th>start</th>\n",
       "      <th>end</th>\n",
       "      <th>summit_center</th>\n",
       "      <th>sequence</th>\n",
       "    </tr>\n",
       "  </thead>\n",
       "  <tbody>\n",
       "    <tr>\n",
       "      <th>0</th>\n",
       "      <td>chr1_29236_29737_-</td>\n",
       "      <td>chr1</td>\n",
       "      <td>29236</td>\n",
       "      <td>29737</td>\n",
       "      <td>29337</td>\n",
       "      <td>TCCCTCCAGCCCCTCCGGGTCCCCTACTTCGCCCCGCCAGGCCCCC...</td>\n",
       "    </tr>\n",
       "    <tr>\n",
       "      <th>1</th>\n",
       "      <td>chr1_199774_200275_-</td>\n",
       "      <td>chr1</td>\n",
       "      <td>199774</td>\n",
       "      <td>200275</td>\n",
       "      <td>200006</td>\n",
       "      <td>CCGCCCACAGTCCGCCCGCGCCTCCGGGTCCTAACGCCGCCGCTCG...</td>\n",
       "    </tr>\n",
       "    <tr>\n",
       "      <th>2</th>\n",
       "      <td>chr1_629102_629950_+</td>\n",
       "      <td>chr1</td>\n",
       "      <td>629102</td>\n",
       "      <td>629950</td>\n",
       "      <td>629793</td>\n",
       "      <td>ATCACAGCGCTAAGCTCGCACTGATTTTTTACCTGAGTAGGCCTAG...</td>\n",
       "    </tr>\n",
       "    <tr>\n",
       "      <th>3</th>\n",
       "      <td>chr1_630597_631171_+</td>\n",
       "      <td>chr1</td>\n",
       "      <td>630597</td>\n",
       "      <td>631171</td>\n",
       "      <td>630948</td>\n",
       "      <td>CACAAACACTTAGTTAACAGCTAAGCACCCTAATCAACTGGCTTCA...</td>\n",
       "    </tr>\n",
       "    <tr>\n",
       "      <th>4</th>\n",
       "      <td>chr1_632356_633841_+</td>\n",
       "      <td>chr1</td>\n",
       "      <td>632356</td>\n",
       "      <td>633841</td>\n",
       "      <td>633051</td>\n",
       "      <td>ACTATCCTGCCCGCCATCATCCTAGTCCTTATCGCCCTCCCATCCC...</td>\n",
       "    </tr>\n",
       "    <tr>\n",
       "      <th>...</th>\n",
       "      <td>...</td>\n",
       "      <td>...</td>\n",
       "      <td>...</td>\n",
       "      <td>...</td>\n",
       "      <td>...</td>\n",
       "      <td>...</td>\n",
       "    </tr>\n",
       "    <tr>\n",
       "      <th>16293</th>\n",
       "      <td>chrY_21028687_21029188_-</td>\n",
       "      <td>chrY</td>\n",
       "      <td>21028687</td>\n",
       "      <td>21029188</td>\n",
       "      <td>21028788</td>\n",
       "      <td>GTGGTGAGTGTTATAGCTCATAATGTTGGCACGGACCCAAACAGTT...</td>\n",
       "    </tr>\n",
       "    <tr>\n",
       "      <th>16294</th>\n",
       "      <td>chrY_21138232_21138733_+</td>\n",
       "      <td>chrY</td>\n",
       "      <td>21138232</td>\n",
       "      <td>21138733</td>\n",
       "      <td>21138531</td>\n",
       "      <td>AGGGCTGAGGATGGCTTATCAAAAACAACCCACTTTATACAAGGAA...</td>\n",
       "    </tr>\n",
       "    <tr>\n",
       "      <th>16295</th>\n",
       "      <td>chrY_21254335_21254836_+</td>\n",
       "      <td>chrY</td>\n",
       "      <td>21254335</td>\n",
       "      <td>21254836</td>\n",
       "      <td>21254594</td>\n",
       "      <td>TAACACCTGCCTTCTATGAGTTAGGAATAATTTTCTCTTCCTCAAT...</td>\n",
       "    </tr>\n",
       "    <tr>\n",
       "      <th>16296</th>\n",
       "      <td>chrY_57067464_57067965_+</td>\n",
       "      <td>chrY</td>\n",
       "      <td>57067464</td>\n",
       "      <td>57067965</td>\n",
       "      <td>57067865</td>\n",
       "      <td>GAACGCAGCAGGCCTAGCCGTGTCGCCTGCTGCCATTGGAGGAGCG...</td>\n",
       "    </tr>\n",
       "    <tr>\n",
       "      <th>16297</th>\n",
       "      <td>chrY_57183815_57184316_+</td>\n",
       "      <td>chrY</td>\n",
       "      <td>57183815</td>\n",
       "      <td>57184316</td>\n",
       "      <td>57184216</td>\n",
       "      <td>GCTTGTGGTTTCAGATGTGGGCGGCCTGTGTGAACCTGTCGTGCAA...</td>\n",
       "    </tr>\n",
       "  </tbody>\n",
       "</table>\n",
       "<p>16298 rows × 6 columns</p>\n",
       "</div>"
      ],
      "text/plain": [
       "                           peak chrom     start       end  summit_center  \\\n",
       "0            chr1_29236_29737_-  chr1     29236     29737          29337   \n",
       "1          chr1_199774_200275_-  chr1    199774    200275         200006   \n",
       "2          chr1_629102_629950_+  chr1    629102    629950         629793   \n",
       "3          chr1_630597_631171_+  chr1    630597    631171         630948   \n",
       "4          chr1_632356_633841_+  chr1    632356    633841         633051   \n",
       "...                         ...   ...       ...       ...            ...   \n",
       "16293  chrY_21028687_21029188_-  chrY  21028687  21029188       21028788   \n",
       "16294  chrY_21138232_21138733_+  chrY  21138232  21138733       21138531   \n",
       "16295  chrY_21254335_21254836_+  chrY  21254335  21254836       21254594   \n",
       "16296  chrY_57067464_57067965_+  chrY  57067464  57067965       57067865   \n",
       "16297  chrY_57183815_57184316_+  chrY  57183815  57184316       57184216   \n",
       "\n",
       "                                                sequence  \n",
       "0      TCCCTCCAGCCCCTCCGGGTCCCCTACTTCGCCCCGCCAGGCCCCC...  \n",
       "1      CCGCCCACAGTCCGCCCGCGCCTCCGGGTCCTAACGCCGCCGCTCG...  \n",
       "2      ATCACAGCGCTAAGCTCGCACTGATTTTTTACCTGAGTAGGCCTAG...  \n",
       "3      CACAAACACTTAGTTAACAGCTAAGCACCCTAATCAACTGGCTTCA...  \n",
       "4      ACTATCCTGCCCGCCATCATCCTAGTCCTTATCGCCCTCCCATCCC...  \n",
       "...                                                  ...  \n",
       "16293  GTGGTGAGTGTTATAGCTCATAATGTTGGCACGGACCCAAACAGTT...  \n",
       "16294  AGGGCTGAGGATGGCTTATCAAAAACAACCCACTTTATACAAGGAA...  \n",
       "16295  TAACACCTGCCTTCTATGAGTTAGGAATAATTTTCTCTTCCTCAAT...  \n",
       "16296  GAACGCAGCAGGCCTAGCCGTGTCGCCTGCTGCCATTGGAGGAGCG...  \n",
       "16297  GCTTGTGGTTTCAGATGTGGGCGGCCTGTGTGAACCTGTCGTGCAA...  \n",
       "\n",
       "[16298 rows x 6 columns]"
      ]
     },
     "execution_count": 47,
     "metadata": {},
     "output_type": "execute_result"
    }
   ],
   "source": [
    "mdata['cre'].var['sequence'] = mdata.mod['cre'].uns['peak_seq']\n",
    "cre_var = mdata['cre'].var.reset_index(names='peak')\n",
    "# subset only required columns\n",
    "cre_var = cre_var[['peak','chrom','start','end','summit_center','sequence']]\n",
    "# cut sequences for clustering\n",
    "cre_var = cut_sequences_midpoint(cre_var, seq_len)\n",
    "cre_var"
   ]
  },
  {
   "cell_type": "code",
   "execution_count": 48,
   "metadata": {},
   "outputs": [
    {
     "data": {
      "text/plain": [
       "16298"
      ]
     },
     "execution_count": 48,
     "metadata": {},
     "output_type": "execute_result"
    }
   ],
   "source": [
    "sequences = np.array(cre_var['sequence'])\n",
    "len(sequences)"
   ]
  },
  {
   "cell_type": "code",
   "execution_count": 49,
   "metadata": {},
   "outputs": [],
   "source": [
    "from collections import Counter \n",
    "\n",
    "counter = Counter()\n",
    "\n",
    "for seq in sequences:\n",
    "    counter.update(seq)"
   ]
  },
  {
   "cell_type": "code",
   "execution_count": 50,
   "metadata": {},
   "outputs": [
    {
     "data": {
      "text/plain": [
       "Counter({'G': 1056507, 'C': 1049517, 'T': 577342, 'A': 576234})"
      ]
     },
     "execution_count": 50,
     "metadata": {},
     "output_type": "execute_result"
    }
   ],
   "source": [
    "counter"
   ]
  },
  {
   "cell_type": "code",
   "execution_count": 51,
   "metadata": {},
   "outputs": [
    {
     "data": {
      "text/plain": [
       "16298"
      ]
     },
     "execution_count": 51,
     "metadata": {},
     "output_type": "execute_result"
    }
   ],
   "source": [
    "idx_with_n = np.where(pd.Series(sequences).str.contains('N'))\n",
    "sequences = np.delete(sequences, idx_with_n)\n",
    "cre_var = cre_var.drop(cre_var.index[idx_with_n])\n",
    "len(sequences)"
   ]
  },
  {
   "cell_type": "code",
   "execution_count": 52,
   "metadata": {},
   "outputs": [],
   "source": [
    "n_components = 50\n",
    "k = 5"
   ]
  },
  {
   "cell_type": "code",
   "execution_count": 53,
   "metadata": {},
   "outputs": [],
   "source": [
    "from sklearn.feature_extraction.text import CountVectorizer\n",
    "\n",
    "\n",
    "# Create all possible k-mers from 'A', 'C', 'G', 'T'\n",
    "vectorizer = CountVectorizer(analyzer='char', ngram_range=(k, k))\n",
    "\n",
    "# Fit the vectorizer on the combined set\n",
    "kmer_embed = vectorizer.fit_transform(sequences)"
   ]
  },
  {
   "cell_type": "code",
   "execution_count": 54,
   "metadata": {},
   "outputs": [
    {
     "data": {
      "text/plain": [
       "<16298x1024 sparse matrix of type '<class 'numpy.int64'>'\n",
       "\twith 2538938 stored elements in Compressed Sparse Row format>"
      ]
     },
     "execution_count": 54,
     "metadata": {},
     "output_type": "execute_result"
    }
   ],
   "source": [
    "kmer_embed"
   ]
  },
  {
   "cell_type": "code",
   "execution_count": 55,
   "metadata": {},
   "outputs": [],
   "source": [
    "# normalize\n",
    "kmer_embed = kmer_embed/ (seq_len - k + 1)"
   ]
  },
  {
   "cell_type": "code",
   "execution_count": 56,
   "metadata": {},
   "outputs": [
    {
     "name": "stdout",
     "output_type": "stream",
     "text": [
      "Fraction of total variance explained by PCA components:  0.4403534710672228\n"
     ]
    }
   ],
   "source": [
    "from sklearn.decomposition import PCA\n",
    "\n",
    "\n",
    "# Apply PCA transformation\n",
    "pca = PCA(n_components=n_components, svd_solver = \"arpack\")\n",
    "# Fit PCA on the combined data to ensure the same transformation is applied to both sets\n",
    "pca_embed = pca.fit_transform(kmer_embed)\n",
    "\n",
    "print(\"Fraction of total variance explained by PCA components: \", np.sum(pca.explained_variance_ratio_))"
   ]
  },
  {
   "cell_type": "code",
   "execution_count": 57,
   "metadata": {},
   "outputs": [
    {
     "data": {
      "text/plain": [
       "(16298, 50)"
      ]
     },
     "execution_count": 57,
     "metadata": {},
     "output_type": "execute_result"
    }
   ],
   "source": [
    "pca_embed.shape"
   ]
  },
  {
   "cell_type": "code",
   "execution_count": 58,
   "metadata": {},
   "outputs": [],
   "source": [
    "from scipy.cluster.hierarchy import dendrogram, linkage, fcluster\n",
    "from sklearn.preprocessing import StandardScaler\n",
    "import matplotlib.pyplot as plt\n",
    "\n",
    "# scaler = StandardScaler()\n",
    "# embed_scaled = scaler.fit_transform(pca_embed)\n",
    "\n",
    "Z = linkage(pca_embed, method='ward', metric='euclidean')  # method 'average', 'complete'"
   ]
  },
  {
   "cell_type": "code",
   "execution_count": 59,
   "metadata": {},
   "outputs": [
    {
     "data": {
      "text/plain": [
       "0\n",
       "3    8077\n",
       "1    6520\n",
       "2    1701\n",
       "Name: count, dtype: int64"
      ]
     },
     "execution_count": 59,
     "metadata": {},
     "output_type": "execute_result"
    }
   ],
   "source": [
    "num_clusters = 3\n",
    "clusters = fcluster(Z, num_clusters, criterion='maxclust')\n",
    "\n",
    "# Create a dictionary of loci to clusters\n",
    "cre_cluster = dict(zip(mdata.mod['cre'].var.index, clusters))\n",
    "\n",
    "pd.DataFrame.from_dict(cre_cluster, orient='index')[0].value_counts()"
   ]
  },
  {
   "cell_type": "markdown",
   "metadata": {},
   "source": [
    "# Final data"
   ]
  },
  {
   "cell_type": "code",
   "execution_count": 66,
   "metadata": {},
   "outputs": [
    {
     "data": {
      "text/html": [
       "<div>\n",
       "<style scoped>\n",
       "    .dataframe tbody tr th:only-of-type {\n",
       "        vertical-align: middle;\n",
       "    }\n",
       "\n",
       "    .dataframe tbody tr th {\n",
       "        vertical-align: top;\n",
       "    }\n",
       "\n",
       "    .dataframe thead th {\n",
       "        text-align: right;\n",
       "    }\n",
       "</style>\n",
       "<table border=\"1\" class=\"dataframe\">\n",
       "  <thead>\n",
       "    <tr style=\"text-align: right;\">\n",
       "      <th></th>\n",
       "      <th>peak</th>\n",
       "      <th>chrom</th>\n",
       "      <th>sequence</th>\n",
       "      <th>cell_type</th>\n",
       "    </tr>\n",
       "  </thead>\n",
       "  <tbody>\n",
       "    <tr>\n",
       "      <th>0</th>\n",
       "      <td>chr1_29236_29737_-</td>\n",
       "      <td>chr1</td>\n",
       "      <td>TCCCTCCAGCCCCTCCGGGTCCCCTACTTCGCCCCGCCAGGCCCCC...</td>\n",
       "      <td>ct3</td>\n",
       "    </tr>\n",
       "    <tr>\n",
       "      <th>1</th>\n",
       "      <td>chr1_199774_200275_-</td>\n",
       "      <td>chr1</td>\n",
       "      <td>CCGCCCACAGTCCGCCCGCGCCTCCGGGTCCTAACGCCGCCGCTCG...</td>\n",
       "      <td>ct3</td>\n",
       "    </tr>\n",
       "    <tr>\n",
       "      <th>2</th>\n",
       "      <td>chr1_629102_629950_+</td>\n",
       "      <td>chr1</td>\n",
       "      <td>ATCACAGCGCTAAGCTCGCACTGATTTTTTACCTGAGTAGGCCTAG...</td>\n",
       "      <td>ct1</td>\n",
       "    </tr>\n",
       "    <tr>\n",
       "      <th>3</th>\n",
       "      <td>chr1_630597_631171_+</td>\n",
       "      <td>chr1</td>\n",
       "      <td>CACAAACACTTAGTTAACAGCTAAGCACCCTAATCAACTGGCTTCA...</td>\n",
       "      <td>ct1</td>\n",
       "    </tr>\n",
       "    <tr>\n",
       "      <th>4</th>\n",
       "      <td>chr1_632356_633841_+</td>\n",
       "      <td>chr1</td>\n",
       "      <td>ACTATCCTGCCCGCCATCATCCTAGTCCTTATCGCCCTCCCATCCC...</td>\n",
       "      <td>ct1</td>\n",
       "    </tr>\n",
       "    <tr>\n",
       "      <th>...</th>\n",
       "      <td>...</td>\n",
       "      <td>...</td>\n",
       "      <td>...</td>\n",
       "      <td>...</td>\n",
       "    </tr>\n",
       "    <tr>\n",
       "      <th>16293</th>\n",
       "      <td>chrY_21028687_21029188_-</td>\n",
       "      <td>chrY</td>\n",
       "      <td>GTGGTGAGTGTTATAGCTCATAATGTTGGCACGGACCCAAACAGTT...</td>\n",
       "      <td>ct1</td>\n",
       "    </tr>\n",
       "    <tr>\n",
       "      <th>16294</th>\n",
       "      <td>chrY_21138232_21138733_+</td>\n",
       "      <td>chrY</td>\n",
       "      <td>AGGGCTGAGGATGGCTTATCAAAAACAACCCACTTTATACAAGGAA...</td>\n",
       "      <td>ct1</td>\n",
       "    </tr>\n",
       "    <tr>\n",
       "      <th>16295</th>\n",
       "      <td>chrY_21254335_21254836_+</td>\n",
       "      <td>chrY</td>\n",
       "      <td>TAACACCTGCCTTCTATGAGTTAGGAATAATTTTCTCTTCCTCAAT...</td>\n",
       "      <td>ct1</td>\n",
       "    </tr>\n",
       "    <tr>\n",
       "      <th>16296</th>\n",
       "      <td>chrY_57067464_57067965_+</td>\n",
       "      <td>chrY</td>\n",
       "      <td>GAACGCAGCAGGCCTAGCCGTGTCGCCTGCTGCCATTGGAGGAGCG...</td>\n",
       "      <td>ct1</td>\n",
       "    </tr>\n",
       "    <tr>\n",
       "      <th>16297</th>\n",
       "      <td>chrY_57183815_57184316_+</td>\n",
       "      <td>chrY</td>\n",
       "      <td>GCTTGTGGTTTCAGATGTGGGCGGCCTGTGTGAACCTGTCGTGCAA...</td>\n",
       "      <td>ct1</td>\n",
       "    </tr>\n",
       "  </tbody>\n",
       "</table>\n",
       "<p>16298 rows × 4 columns</p>\n",
       "</div>"
      ],
      "text/plain": [
       "                           peak chrom  \\\n",
       "0            chr1_29236_29737_-  chr1   \n",
       "1          chr1_199774_200275_-  chr1   \n",
       "2          chr1_629102_629950_+  chr1   \n",
       "3          chr1_630597_631171_+  chr1   \n",
       "4          chr1_632356_633841_+  chr1   \n",
       "...                         ...   ...   \n",
       "16293  chrY_21028687_21029188_-  chrY   \n",
       "16294  chrY_21138232_21138733_+  chrY   \n",
       "16295  chrY_21254335_21254836_+  chrY   \n",
       "16296  chrY_57067464_57067965_+  chrY   \n",
       "16297  chrY_57183815_57184316_+  chrY   \n",
       "\n",
       "                                                sequence cell_type  \n",
       "0      TCCCTCCAGCCCCTCCGGGTCCCCTACTTCGCCCCGCCAGGCCCCC...       ct3  \n",
       "1      CCGCCCACAGTCCGCCCGCGCCTCCGGGTCCTAACGCCGCCGCTCG...       ct3  \n",
       "2      ATCACAGCGCTAAGCTCGCACTGATTTTTTACCTGAGTAGGCCTAG...       ct1  \n",
       "3      CACAAACACTTAGTTAACAGCTAAGCACCCTAATCAACTGGCTTCA...       ct1  \n",
       "4      ACTATCCTGCCCGCCATCATCCTAGTCCTTATCGCCCTCCCATCCC...       ct1  \n",
       "...                                                  ...       ...  \n",
       "16293  GTGGTGAGTGTTATAGCTCATAATGTTGGCACGGACCCAAACAGTT...       ct1  \n",
       "16294  AGGGCTGAGGATGGCTTATCAAAAACAACCCACTTTATACAAGGAA...       ct1  \n",
       "16295  TAACACCTGCCTTCTATGAGTTAGGAATAATTTTCTCTTCCTCAAT...       ct1  \n",
       "16296  GAACGCAGCAGGCCTAGCCGTGTCGCCTGCTGCCATTGGAGGAGCG...       ct1  \n",
       "16297  GCTTGTGGTTTCAGATGTGGGCGGCCTGTGTGAACCTGTCGTGCAA...       ct1  \n",
       "\n",
       "[16298 rows x 4 columns]"
      ]
     },
     "execution_count": 66,
     "metadata": {},
     "output_type": "execute_result"
    }
   ],
   "source": [
    "full_data = cre_var.copy()\n",
    "\n",
    "# new column cluster by mapping genes to cluster with help of gene_cluster dict\n",
    "full_data['cell_type'] = full_data['peak'].map(cre_cluster)\n",
    "full_data = full_data[['peak','chrom','sequence','cell_type']]\n",
    "#full_data = full_data.explode('cell_type')\n",
    "full_data = full_data[full_data['cell_type'].notna()]\n",
    "\n",
    "full_data['cell_type'] = \"ct\"+(full_data.cell_type.astype(int)).astype(str)\n",
    "full_data.reset_index(drop=True,inplace=True)\n",
    "# for data constitencty with legacy code\n",
    "full_data"
   ]
  },
  {
   "cell_type": "code",
   "execution_count": 67,
   "metadata": {},
   "outputs": [
    {
     "data": {
      "text/plain": [
       "count    16298.0\n",
       "mean       200.0\n",
       "std          0.0\n",
       "min        200.0\n",
       "25%        200.0\n",
       "50%        200.0\n",
       "75%        200.0\n",
       "max        200.0\n",
       "Name: sequence, dtype: float64"
      ]
     },
     "execution_count": 67,
     "metadata": {},
     "output_type": "execute_result"
    }
   ],
   "source": [
    "full_data['sequence'].str.len().describe()"
   ]
  },
  {
   "cell_type": "code",
   "execution_count": 68,
   "metadata": {},
   "outputs": [
    {
     "data": {
      "text/plain": [
       "peak         False\n",
       "chrom        False\n",
       "sequence     False\n",
       "cell_type    False\n",
       "dtype: bool"
      ]
     },
     "execution_count": 68,
     "metadata": {},
     "output_type": "execute_result"
    }
   ],
   "source": [
    "full_data.isna().any()"
   ]
  },
  {
   "cell_type": "code",
   "execution_count": 69,
   "metadata": {},
   "outputs": [
    {
     "name": "stdout",
     "output_type": "stream",
     "text": [
      "Total peaks: 16298 ; more than 1 cluster: 0\n"
     ]
    }
   ],
   "source": [
    "print(\"Total peaks:\", full_data.shape[0],\"; more than 1 cluster:\" ,full_data[full_data['peak'].duplicated()].shape[0])"
   ]
  },
  {
   "cell_type": "code",
   "execution_count": 70,
   "metadata": {},
   "outputs": [
    {
     "name": "stdout",
     "output_type": "stream",
     "text": [
      "File statistics\n",
      "cell_type\n",
      "ct3    8077\n",
      "ct1    6520\n",
      "ct2    1701\n",
      "Name: count, dtype: int64\n",
      "chrom\n",
      "chr1     1617\n",
      "chr19    1229\n",
      "chr2     1129\n",
      "chr17    1042\n",
      "chr11     889\n",
      "chr3      866\n",
      "chr6      863\n",
      "chr7      854\n",
      "chr12     843\n",
      "chr16     733\n",
      "chr5      723\n",
      "chr14     615\n",
      "chr9      612\n",
      "chr10     597\n",
      "chr4      571\n",
      "chr8      531\n",
      "chr15     506\n",
      "chrX      480\n",
      "chr20     425\n",
      "chr22     397\n",
      "chr13     284\n",
      "chr18     225\n",
      "chr21     208\n",
      "chrY       39\n",
      "chrM       20\n",
      "Name: count, dtype: int64\n"
     ]
    }
   ],
   "source": [
    "print(\"File statistics\")\n",
    "print(full_data['cell_type'].value_counts())\n",
    "print(full_data['chrom'].value_counts())"
   ]
  },
  {
   "cell_type": "code",
   "execution_count": 71,
   "metadata": {},
   "outputs": [
    {
     "data": {
      "text/plain": [
       "cell_type\n",
       "ct3    804\n",
       "ct1    674\n",
       "ct2    139\n",
       "Name: count, dtype: int64"
      ]
     },
     "execution_count": 71,
     "metadata": {},
     "output_type": "execute_result"
    }
   ],
   "source": [
    "full_data[full_data['chrom']=='chr1']['cell_type'].value_counts()"
   ]
  },
  {
   "cell_type": "code",
   "execution_count": 72,
   "metadata": {},
   "outputs": [],
   "source": [
    "file_path = os.path.join(save_path, 'tcre_seq_kmer_cluster.csv')\n",
    "\n",
    "full_data.to_csv(file_path, index=False)"
   ]
  },
  {
   "cell_type": "code",
   "execution_count": null,
   "metadata": {},
   "outputs": [],
   "source": []
  }
 ],
 "metadata": {
  "kernelspec": {
   "display_name": "Python 3",
   "language": "python",
   "name": "python3"
  },
  "language_info": {
   "codemirror_mode": {
    "name": "ipython",
    "version": 3
   },
   "file_extension": ".py",
   "mimetype": "text/x-python",
   "name": "python",
   "nbconvert_exporter": "python",
   "pygments_lexer": "ipython3",
   "version": "3.10.12"
  }
 },
 "nbformat": 4,
 "nbformat_minor": 2
}
