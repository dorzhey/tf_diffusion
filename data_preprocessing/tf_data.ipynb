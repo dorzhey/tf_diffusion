{
 "cells": [
  {
   "cell_type": "code",
   "execution_count": 1,
   "metadata": {},
   "outputs": [
    {
     "name": "stderr",
     "output_type": "stream",
     "text": [
      "/root/.local/lib/python3.10/site-packages/tqdm/auto.py:21: TqdmWarning: IProgress not found. Please update jupyter and ipywidgets. See https://ipywidgets.readthedocs.io/en/stable/user_install.html\n",
      "  from .autonotebook import tqdm as notebook_tqdm\n"
     ]
    }
   ],
   "source": [
    "import pandas as pd\n",
    "import numpy as np\n",
    "import sys\n",
    "import os\n",
    "import genomepy"
   ]
  },
  {
   "cell_type": "code",
   "execution_count": 2,
   "metadata": {},
   "outputs": [],
   "source": [
    "file_dir = os.path.abspath('')\n",
    "save_path = os.path.join(file_dir, 'generated_data')"
   ]
  },
  {
   "cell_type": "code",
   "execution_count": 16,
   "metadata": {},
   "outputs": [
    {
     "data": {
      "text/html": [
       "<div>\n",
       "<style scoped>\n",
       "    .dataframe tbody tr th:only-of-type {\n",
       "        vertical-align: middle;\n",
       "    }\n",
       "\n",
       "    .dataframe tbody tr th {\n",
       "        vertical-align: top;\n",
       "    }\n",
       "\n",
       "    .dataframe thead th {\n",
       "        text-align: right;\n",
       "    }\n",
       "</style>\n",
       "<table border=\"1\" class=\"dataframe\">\n",
       "  <thead>\n",
       "    <tr style=\"text-align: right;\">\n",
       "      <th></th>\n",
       "      <th>locus_id</th>\n",
       "      <th>cre_sequence</th>\n",
       "      <th>cre_chrom</th>\n",
       "      <th>cre_start</th>\n",
       "      <th>cre_end</th>\n",
       "      <th>summit_center</th>\n",
       "      <th>tf_cluster</th>\n",
       "      <th>cell_type_leiden</th>\n",
       "      <th>tf_state</th>\n",
       "      <th>cre_pos</th>\n",
       "      <th>cre_neg</th>\n",
       "    </tr>\n",
       "  </thead>\n",
       "  <tbody>\n",
       "    <tr>\n",
       "      <th>5186372</th>\n",
       "      <td>chr3_51670851_51671352_+</td>\n",
       "      <td>TGCTGCGCCTCCCTAGGCTGTACAAATTCTCCTCAGCCCCAGCTCC...</td>\n",
       "      <td>chr3</td>\n",
       "      <td>51670851</td>\n",
       "      <td>51671352</td>\n",
       "      <td>51671252</td>\n",
       "      <td>251</td>\n",
       "      <td>1</td>\n",
       "      <td>[-2.297238    5.884343   -1.8765036  -1.142733...</td>\n",
       "      <td>0.0</td>\n",
       "      <td>0.0</td>\n",
       "    </tr>\n",
       "    <tr>\n",
       "      <th>3692650</th>\n",
       "      <td>chr19_20424830_20425331_-</td>\n",
       "      <td>CCAATACCTGCAGGTCAAAGGGCCTCAGAGGCTGGGCCTCTATGAG...</td>\n",
       "      <td>chr19</td>\n",
       "      <td>20424830</td>\n",
       "      <td>20425331</td>\n",
       "      <td>20424931</td>\n",
       "      <td>290</td>\n",
       "      <td>3</td>\n",
       "      <td>[-4.0217505  -3.8701944   1.4739938   5.029199...</td>\n",
       "      <td>0.0</td>\n",
       "      <td>0.0</td>\n",
       "    </tr>\n",
       "    <tr>\n",
       "      <th>5573186</th>\n",
       "      <td>chr4_80073128_80073872_-</td>\n",
       "      <td>GTCCCCTTTAGGGGAGGAGGCTAGCTGGCCCTGGGACTCCCGGCTG...</td>\n",
       "      <td>chr4</td>\n",
       "      <td>80073128</td>\n",
       "      <td>80073872</td>\n",
       "      <td>80073315</td>\n",
       "      <td>151</td>\n",
       "      <td>1</td>\n",
       "      <td>[-3.3846982   3.8862689  -1.5372126   0.663892...</td>\n",
       "      <td>0.0</td>\n",
       "      <td>0.0</td>\n",
       "    </tr>\n",
       "    <tr>\n",
       "      <th>5505363</th>\n",
       "      <td>chr4_36281215_36281716_+</td>\n",
       "      <td>CCAGCTTCAACATTTATTAATTCTTACAGCAAATTTTATACCTCTA...</td>\n",
       "      <td>chr4</td>\n",
       "      <td>36281215</td>\n",
       "      <td>36281716</td>\n",
       "      <td>36281616</td>\n",
       "      <td>315</td>\n",
       "      <td>0</td>\n",
       "      <td>[12.276233    0.29082283 -0.9882644   1.477323...</td>\n",
       "      <td>0.0</td>\n",
       "      <td>0.0</td>\n",
       "    </tr>\n",
       "    <tr>\n",
       "      <th>630855</th>\n",
       "      <td>chr1_196651642_196652143_+</td>\n",
       "      <td>TGCTGATTGTGAAAACATTGCCTAAACCAAAGTTTTGTATGTGATT...</td>\n",
       "      <td>chr1</td>\n",
       "      <td>196651642</td>\n",
       "      <td>196652143</td>\n",
       "      <td>196652043</td>\n",
       "      <td>143</td>\n",
       "      <td>2</td>\n",
       "      <td>[-4.90673304e+00 -3.36905456e+00 -3.55394632e-...</td>\n",
       "      <td>0.0</td>\n",
       "      <td>0.0</td>\n",
       "    </tr>\n",
       "    <tr>\n",
       "      <th>...</th>\n",
       "      <td>...</td>\n",
       "      <td>...</td>\n",
       "      <td>...</td>\n",
       "      <td>...</td>\n",
       "      <td>...</td>\n",
       "      <td>...</td>\n",
       "      <td>...</td>\n",
       "      <td>...</td>\n",
       "      <td>...</td>\n",
       "      <td>...</td>\n",
       "      <td>...</td>\n",
       "    </tr>\n",
       "    <tr>\n",
       "      <th>6392316</th>\n",
       "      <td>chr6_137867822_137868323_+</td>\n",
       "      <td>GCGCCCCTCGGGCCCTCCGATCGGGTGGTCGTTGGCGCTTTGCTCC...</td>\n",
       "      <td>chr6</td>\n",
       "      <td>137867822</td>\n",
       "      <td>137868323</td>\n",
       "      <td>137868199</td>\n",
       "      <td>382</td>\n",
       "      <td>1</td>\n",
       "      <td>[-3.3937242   7.8052564   0.66309255  2.260239...</td>\n",
       "      <td>0.0</td>\n",
       "      <td>0.0</td>\n",
       "    </tr>\n",
       "    <tr>\n",
       "      <th>5939984</th>\n",
       "      <td>chr5_140557355_140557856_-</td>\n",
       "      <td>CTAAGCGCCGCAACCGCCCCCAGCCTAGGCCGGGGCGACAACCTAG...</td>\n",
       "      <td>chr5</td>\n",
       "      <td>140557355</td>\n",
       "      <td>140557856</td>\n",
       "      <td>140557456</td>\n",
       "      <td>188</td>\n",
       "      <td>1</td>\n",
       "      <td>[-1.7763593   4.5884495   1.4469132  -1.327181...</td>\n",
       "      <td>0.0</td>\n",
       "      <td>0.0</td>\n",
       "    </tr>\n",
       "    <tr>\n",
       "      <th>2797743</th>\n",
       "      <td>chr16_75648537_75649038_-</td>\n",
       "      <td>CCGCGGATAGCGGGGGTGAGGAGGCTGAGCGCGGGGCCTCGCGGAT...</td>\n",
       "      <td>chr16</td>\n",
       "      <td>75648537</td>\n",
       "      <td>75649038</td>\n",
       "      <td>75648671</td>\n",
       "      <td>240</td>\n",
       "      <td>4</td>\n",
       "      <td>[-3.6646812   1.822955   -1.0430255  -1.811887...</td>\n",
       "      <td>0.0</td>\n",
       "      <td>0.0</td>\n",
       "    </tr>\n",
       "    <tr>\n",
       "      <th>67704</th>\n",
       "      <td>chr1_11272825_11273596_+</td>\n",
       "      <td>GCTAAGAGAGGCTGATTGCAGTTAGTCTGGAAGTAGCTGCGGGGCG...</td>\n",
       "      <td>chr1</td>\n",
       "      <td>11272825</td>\n",
       "      <td>11273596</td>\n",
       "      <td>11273329</td>\n",
       "      <td>25</td>\n",
       "      <td>8</td>\n",
       "      <td>[ 9.09722519e+00  1.02032554e+00  1.40543365e+...</td>\n",
       "      <td>0.0</td>\n",
       "      <td>0.0</td>\n",
       "    </tr>\n",
       "    <tr>\n",
       "      <th>2899479</th>\n",
       "      <td>chr17_5078066_5078567_+</td>\n",
       "      <td>GCGGGTTGGGAGAGTTAAAAGGGTCGCGCAAACGGTCCCCGCGGGA...</td>\n",
       "      <td>chr17</td>\n",
       "      <td>5078066</td>\n",
       "      <td>5078567</td>\n",
       "      <td>5078467</td>\n",
       "      <td>207</td>\n",
       "      <td>2</td>\n",
       "      <td>[-3.273679   -0.50963444  0.39178497 -0.113976...</td>\n",
       "      <td>0.0</td>\n",
       "      <td>0.0</td>\n",
       "    </tr>\n",
       "  </tbody>\n",
       "</table>\n",
       "<p>100000 rows × 11 columns</p>\n",
       "</div>"
      ],
      "text/plain": [
       "                           locus_id  \\\n",
       "5186372    chr3_51670851_51671352_+   \n",
       "3692650   chr19_20424830_20425331_-   \n",
       "5573186    chr4_80073128_80073872_-   \n",
       "5505363    chr4_36281215_36281716_+   \n",
       "630855   chr1_196651642_196652143_+   \n",
       "...                             ...   \n",
       "6392316  chr6_137867822_137868323_+   \n",
       "5939984  chr5_140557355_140557856_-   \n",
       "2797743   chr16_75648537_75649038_-   \n",
       "67704      chr1_11272825_11273596_+   \n",
       "2899479     chr17_5078066_5078567_+   \n",
       "\n",
       "                                              cre_sequence cre_chrom  \\\n",
       "5186372  TGCTGCGCCTCCCTAGGCTGTACAAATTCTCCTCAGCCCCAGCTCC...      chr3   \n",
       "3692650  CCAATACCTGCAGGTCAAAGGGCCTCAGAGGCTGGGCCTCTATGAG...     chr19   \n",
       "5573186  GTCCCCTTTAGGGGAGGAGGCTAGCTGGCCCTGGGACTCCCGGCTG...      chr4   \n",
       "5505363  CCAGCTTCAACATTTATTAATTCTTACAGCAAATTTTATACCTCTA...      chr4   \n",
       "630855   TGCTGATTGTGAAAACATTGCCTAAACCAAAGTTTTGTATGTGATT...      chr1   \n",
       "...                                                    ...       ...   \n",
       "6392316  GCGCCCCTCGGGCCCTCCGATCGGGTGGTCGTTGGCGCTTTGCTCC...      chr6   \n",
       "5939984  CTAAGCGCCGCAACCGCCCCCAGCCTAGGCCGGGGCGACAACCTAG...      chr5   \n",
       "2797743  CCGCGGATAGCGGGGGTGAGGAGGCTGAGCGCGGGGCCTCGCGGAT...     chr16   \n",
       "67704    GCTAAGAGAGGCTGATTGCAGTTAGTCTGGAAGTAGCTGCGGGGCG...      chr1   \n",
       "2899479  GCGGGTTGGGAGAGTTAAAAGGGTCGCGCAAACGGTCCCCGCGGGA...     chr17   \n",
       "\n",
       "         cre_start    cre_end  summit_center  tf_cluster  cell_type_leiden  \\\n",
       "5186372   51670851   51671352       51671252         251                 1   \n",
       "3692650   20424830   20425331       20424931         290                 3   \n",
       "5573186   80073128   80073872       80073315         151                 1   \n",
       "5505363   36281215   36281716       36281616         315                 0   \n",
       "630855   196651642  196652143      196652043         143                 2   \n",
       "...            ...        ...            ...         ...               ...   \n",
       "6392316  137867822  137868323      137868199         382                 1   \n",
       "5939984  140557355  140557856      140557456         188                 1   \n",
       "2797743   75648537   75649038       75648671         240                 4   \n",
       "67704     11272825   11273596       11273329          25                 8   \n",
       "2899479    5078066    5078567        5078467         207                 2   \n",
       "\n",
       "                                                  tf_state  cre_pos  cre_neg  \n",
       "5186372  [-2.297238    5.884343   -1.8765036  -1.142733...      0.0      0.0  \n",
       "3692650  [-4.0217505  -3.8701944   1.4739938   5.029199...      0.0      0.0  \n",
       "5573186  [-3.3846982   3.8862689  -1.5372126   0.663892...      0.0      0.0  \n",
       "5505363  [12.276233    0.29082283 -0.9882644   1.477323...      0.0      0.0  \n",
       "630855   [-4.90673304e+00 -3.36905456e+00 -3.55394632e-...      0.0      0.0  \n",
       "...                                                    ...      ...      ...  \n",
       "6392316  [-3.3937242   7.8052564   0.66309255  2.260239...      0.0      0.0  \n",
       "5939984  [-1.7763593   4.5884495   1.4469132  -1.327181...      0.0      0.0  \n",
       "2797743  [-3.6646812   1.822955   -1.0430255  -1.811887...      0.0      0.0  \n",
       "67704    [ 9.09722519e+00  1.02032554e+00  1.40543365e+...      0.0      0.0  \n",
       "2899479  [-3.273679   -0.50963444  0.39178497 -0.113976...      0.0      0.0  \n",
       "\n",
       "[100000 rows x 11 columns]"
      ]
     },
     "execution_count": 16,
     "metadata": {},
     "output_type": "execute_result"
    }
   ],
   "source": [
    "df = pd.read_csv(save_path + \"/sampled_df_columns_renamed_bidir.csv\", index_col=0).sample(100000)\n",
    "df"
   ]
  },
  {
   "cell_type": "code",
   "execution_count": 17,
   "metadata": {},
   "outputs": [],
   "source": [
    "import random"
   ]
  },
  {
   "cell_type": "code",
   "execution_count": 18,
   "metadata": {},
   "outputs": [],
   "source": [
    "\n",
    "shuffled_data = df[df['cre_chrom']=='chr2'].reset_index(drop=True)\n",
    "shuffled_data[\"cre_sequence\"] = shuffled_data[\"cre_sequence\"].apply(\n",
    "        lambda x: \"\".join(random.sample(x, len(x)))\n",
    "    )"
   ]
  },
  {
   "cell_type": "code",
   "execution_count": 20,
   "metadata": {},
   "outputs": [],
   "source": [
    "test_data = df[df['cre_chrom'] == \"chr1\"].reset_index(drop=True)\n",
    "\n",
    "\n",
    "train_data = df[(df[\"cre_chrom\"]!= \"chr1\") & (df[\"cre_chrom\"] != \"chr2\")].reset_index(drop=True)"
   ]
  },
  {
   "cell_type": "code",
   "execution_count": 9,
   "metadata": {},
   "outputs": [
    {
     "name": "stdout",
     "output_type": "stream",
     "text": [
      "Intersection between test and shuffled: 0\n",
      "Intersection between test and train: 0\n",
      "Intersection between shuffled and train: 0\n"
     ]
    }
   ],
   "source": [
    "print(f\"Intersection between test and shuffled: {len(set(test_data['locus_id']).intersection(set(shuffled_data['locus_id'])))}\")\n",
    "print(f\"Intersection between test and train: {len(set(test_data['locus_id']).intersection(set(train_data['locus_id'])))}\")\n",
    "print(f\"Intersection between shuffled and train: {len(set(shuffled_data['locus_id']).intersection(set(train_data['locus_id'])))}\")"
   ]
  },
  {
   "cell_type": "code",
   "execution_count": 4,
   "metadata": {},
   "outputs": [
    {
     "data": {
      "text/plain": [
       "16284"
      ]
     },
     "execution_count": 4,
     "metadata": {},
     "output_type": "execute_result"
    }
   ],
   "source": [
    "unique_seqs = df['cre_sequence'].unique()\n",
    "len(unique_seqs)"
   ]
  },
  {
   "cell_type": "code",
   "execution_count": 5,
   "metadata": {},
   "outputs": [
    {
     "data": {
      "text/plain": [
       "array([ 1826, 15752, 15753])"
      ]
     },
     "execution_count": 5,
     "metadata": {},
     "output_type": "execute_result"
    }
   ],
   "source": [
    "np.where(np.char.find(unique_seqs.astype(str), 'N') > -1)[0]"
   ]
  },
  {
   "cell_type": "code",
   "execution_count": 6,
   "metadata": {},
   "outputs": [
    {
     "data": {
      "text/plain": [
       "array(['chr10_58267793_58268294_-', 'chrM_2776_3434_+',\n",
       "       'chrM_3063_3604_-'], dtype=object)"
      ]
     },
     "execution_count": 6,
     "metadata": {},
     "output_type": "execute_result"
    }
   ],
   "source": [
    "df[df['cre_sequence'].str.contains('N')]['locus_id'].unique()"
   ]
  },
  {
   "cell_type": "code",
   "execution_count": 7,
   "metadata": {},
   "outputs": [
    {
     "data": {
      "text/plain": [
       "16298"
      ]
     },
     "execution_count": 7,
     "metadata": {},
     "output_type": "execute_result"
    }
   ],
   "source": [
    "df['locus_id'].nunique()"
   ]
  },
  {
   "cell_type": "code",
   "execution_count": 8,
   "metadata": {},
   "outputs": [
    {
     "data": {
      "text/plain": [
       "(16298, 11)"
      ]
     },
     "execution_count": 8,
     "metadata": {},
     "output_type": "execute_result"
    }
   ],
   "source": [
    "df.drop_duplicates('locus_id').shape"
   ]
  },
  {
   "cell_type": "code",
   "execution_count": 10,
   "metadata": {},
   "outputs": [],
   "source": [
    "import re\n",
    "\n",
    "\n",
    "def string_to_array(s):\n",
    "    # Remove newline characters and replace multiple spaces with a single space\n",
    "    clean_str = re.sub(r'\\s+', ' ', s.replace('\\n', ' '))\n",
    "    # Remove the brackets\n",
    "    clean_str = clean_str.strip('[]')\n",
    "    # Split the string into a list of floats\n",
    "    array_list = [float(item) for item in clean_str.split()]\n",
    "    # Convert the list to a NumPy array\n",
    "    return np.array(array_list)"
   ]
  },
  {
   "cell_type": "code",
   "execution_count": 11,
   "metadata": {},
   "outputs": [],
   "source": [
    "df['tf_state'] = df['tf_state'].apply(string_to_array)"
   ]
  },
  {
   "cell_type": "code",
   "execution_count": 13,
   "metadata": {},
   "outputs": [
    {
     "name": "stdout",
     "output_type": "stream",
     "text": [
      "<class 'pandas.core.frame.DataFrame'>\n",
      "Index: 7643762 entries, 0 to 7643761\n",
      "Data columns (total 11 columns):\n",
      " #   Column            Dtype  \n",
      "---  ------            -----  \n",
      " 0   locus_id          object \n",
      " 1   cre_sequence      object \n",
      " 2   cre_chrom         object \n",
      " 3   cre_start         int64  \n",
      " 4   cre_end           int64  \n",
      " 5   summit_center     int64  \n",
      " 6   tf_cluster        int64  \n",
      " 7   cell_type_leiden  int64  \n",
      " 8   tf_state          object \n",
      " 9   cre_pos           float64\n",
      " 10  cre_neg           float64\n",
      "dtypes: float64(2), int64(5), object(4)\n",
      "memory usage: 699.8+ MB\n"
     ]
    }
   ],
   "source": [
    "df.info()"
   ]
  },
  {
   "cell_type": "code",
   "execution_count": 16,
   "metadata": {},
   "outputs": [
    {
     "data": {
      "text/html": [
       "<div>\n",
       "<style scoped>\n",
       "    .dataframe tbody tr th:only-of-type {\n",
       "        vertical-align: middle;\n",
       "    }\n",
       "\n",
       "    .dataframe tbody tr th {\n",
       "        vertical-align: top;\n",
       "    }\n",
       "\n",
       "    .dataframe thead th {\n",
       "        text-align: right;\n",
       "    }\n",
       "</style>\n",
       "<table border=\"1\" class=\"dataframe\">\n",
       "  <thead>\n",
       "    <tr style=\"text-align: right;\">\n",
       "      <th></th>\n",
       "      <th>cre_start</th>\n",
       "      <th>cre_end</th>\n",
       "      <th>summit_center</th>\n",
       "      <th>tf_cluster</th>\n",
       "      <th>cell_type_leiden</th>\n",
       "      <th>cre_pos</th>\n",
       "      <th>cre_neg</th>\n",
       "    </tr>\n",
       "  </thead>\n",
       "  <tbody>\n",
       "    <tr>\n",
       "      <th>count</th>\n",
       "      <td>7.643762e+06</td>\n",
       "      <td>7.643762e+06</td>\n",
       "      <td>7.643762e+06</td>\n",
       "      <td>7.643762e+06</td>\n",
       "      <td>7.643762e+06</td>\n",
       "      <td>7.643762e+06</td>\n",
       "      <td>7.643762e+06</td>\n",
       "    </tr>\n",
       "    <tr>\n",
       "      <th>mean</th>\n",
       "      <td>7.254255e+07</td>\n",
       "      <td>7.254311e+07</td>\n",
       "      <td>7.254283e+07</td>\n",
       "      <td>2.341279e+02</td>\n",
       "      <td>2.590618e+00</td>\n",
       "      <td>6.620563e-02</td>\n",
       "      <td>6.286846e-02</td>\n",
       "    </tr>\n",
       "    <tr>\n",
       "      <th>std</th>\n",
       "      <td>5.491330e+07</td>\n",
       "      <td>5.491330e+07</td>\n",
       "      <td>5.491330e+07</td>\n",
       "      <td>1.355819e+02</td>\n",
       "      <td>2.444872e+00</td>\n",
       "      <td>2.811979e-01</td>\n",
       "      <td>2.700640e-01</td>\n",
       "    </tr>\n",
       "    <tr>\n",
       "      <th>min</th>\n",
       "      <td>1.600000e+02</td>\n",
       "      <td>7.780000e+02</td>\n",
       "      <td>5.270000e+02</td>\n",
       "      <td>0.000000e+00</td>\n",
       "      <td>0.000000e+00</td>\n",
       "      <td>0.000000e+00</td>\n",
       "      <td>0.000000e+00</td>\n",
       "    </tr>\n",
       "    <tr>\n",
       "      <th>25%</th>\n",
       "      <td>3.089374e+07</td>\n",
       "      <td>3.089424e+07</td>\n",
       "      <td>3.089408e+07</td>\n",
       "      <td>1.170000e+02</td>\n",
       "      <td>1.000000e+00</td>\n",
       "      <td>0.000000e+00</td>\n",
       "      <td>0.000000e+00</td>\n",
       "    </tr>\n",
       "    <tr>\n",
       "      <th>50%</th>\n",
       "      <td>5.775345e+07</td>\n",
       "      <td>5.775395e+07</td>\n",
       "      <td>5.775370e+07</td>\n",
       "      <td>2.340000e+02</td>\n",
       "      <td>2.000000e+00</td>\n",
       "      <td>0.000000e+00</td>\n",
       "      <td>0.000000e+00</td>\n",
       "    </tr>\n",
       "    <tr>\n",
       "      <th>75%</th>\n",
       "      <td>1.070563e+08</td>\n",
       "      <td>1.070568e+08</td>\n",
       "      <td>1.070567e+08</td>\n",
       "      <td>3.510000e+02</td>\n",
       "      <td>4.000000e+00</td>\n",
       "      <td>0.000000e+00</td>\n",
       "      <td>0.000000e+00</td>\n",
       "    </tr>\n",
       "    <tr>\n",
       "      <th>max</th>\n",
       "      <td>2.489058e+08</td>\n",
       "      <td>2.489063e+08</td>\n",
       "      <td>2.489062e+08</td>\n",
       "      <td>4.690000e+02</td>\n",
       "      <td>1.100000e+01</td>\n",
       "      <td>7.320591e+00</td>\n",
       "      <td>7.071832e+00</td>\n",
       "    </tr>\n",
       "  </tbody>\n",
       "</table>\n",
       "</div>"
      ],
      "text/plain": [
       "          cre_start       cre_end  summit_center    tf_cluster  \\\n",
       "count  7.643762e+06  7.643762e+06   7.643762e+06  7.643762e+06   \n",
       "mean   7.254255e+07  7.254311e+07   7.254283e+07  2.341279e+02   \n",
       "std    5.491330e+07  5.491330e+07   5.491330e+07  1.355819e+02   \n",
       "min    1.600000e+02  7.780000e+02   5.270000e+02  0.000000e+00   \n",
       "25%    3.089374e+07  3.089424e+07   3.089408e+07  1.170000e+02   \n",
       "50%    5.775345e+07  5.775395e+07   5.775370e+07  2.340000e+02   \n",
       "75%    1.070563e+08  1.070568e+08   1.070567e+08  3.510000e+02   \n",
       "max    2.489058e+08  2.489063e+08   2.489062e+08  4.690000e+02   \n",
       "\n",
       "       cell_type_leiden       cre_pos       cre_neg  \n",
       "count      7.643762e+06  7.643762e+06  7.643762e+06  \n",
       "mean       2.590618e+00  6.620563e-02  6.286846e-02  \n",
       "std        2.444872e+00  2.811979e-01  2.700640e-01  \n",
       "min        0.000000e+00  0.000000e+00  0.000000e+00  \n",
       "25%        1.000000e+00  0.000000e+00  0.000000e+00  \n",
       "50%        2.000000e+00  0.000000e+00  0.000000e+00  \n",
       "75%        4.000000e+00  0.000000e+00  0.000000e+00  \n",
       "max        1.100000e+01  7.320591e+00  7.071832e+00  "
      ]
     },
     "execution_count": 16,
     "metadata": {},
     "output_type": "execute_result"
    }
   ],
   "source": [
    "df.describe()"
   ]
  },
  {
   "cell_type": "code",
   "execution_count": 39,
   "metadata": {},
   "outputs": [
    {
     "data": {
      "text/plain": [
       "<Axes: ylabel='Frequency'>"
      ]
     },
     "execution_count": 39,
     "metadata": {},
     "output_type": "execute_result"
    },
    {
     "data": {
      "image/png": "[encoded data removed]",
      "text/plain": [
       "<Figure size 640x480 with 1 Axes>"
      ]
     },
     "metadata": {},
     "output_type": "display_data"
    }
   ],
   "source": [
    "df[(df['cre_pos']>0) | (df['cre_neg'] >0)].groupby('tf_cluster')['locus_id'].count().plot.hist(bins=100, log=False)"
   ]
  },
  {
   "cell_type": "code",
   "execution_count": 19,
   "metadata": {},
   "outputs": [
    {
     "data": {
      "text/plain": [
       "<Axes: ylabel='Frequency'>"
      ]
     },
     "execution_count": 19,
     "metadata": {},
     "output_type": "execute_result"
    },
    {
     "data": {
      "image/png": "[encoded data removed]",
      "text/plain": [
       "<Figure size 640x480 with 1 Axes>"
      ]
     },
     "metadata": {},
     "output_type": "display_data"
    }
   ],
   "source": [
    "df['cre_pos'].plot.hist(bins=100, log=False)"
   ]
  },
  {
   "cell_type": "code",
   "execution_count": 20,
   "metadata": {},
   "outputs": [
    {
     "data": {
      "text/plain": [
       "<Axes: ylabel='Frequency'>"
      ]
     },
     "execution_count": 20,
     "metadata": {},
     "output_type": "execute_result"
    },
    {
     "data": {
      "image/png": "[encoded data removed]",
      "text/plain": [
       "<Figure size 640x480 with 1 Axes>"
      ]
     },
     "metadata": {},
     "output_type": "display_data"
    }
   ],
   "source": [
    "df['cre_neg'].plot.hist(bins=100, log=False)"
   ]
  },
  {
   "cell_type": "code",
   "execution_count": 12,
   "metadata": {},
   "outputs": [
    {
     "data": {
      "text/plain": [
       "12"
      ]
     },
     "execution_count": 12,
     "metadata": {},
     "output_type": "execute_result"
    }
   ],
   "source": [
    "df['cell_type_leiden'].nunique()"
   ]
  },
  {
   "cell_type": "code",
   "execution_count": 13,
   "metadata": {},
   "outputs": [
    {
     "data": {
      "text/plain": [
       "469"
      ]
     },
     "execution_count": 13,
     "metadata": {},
     "output_type": "execute_result"
    }
   ],
   "source": [
    "df['tf_state'].nunique()"
   ]
  },
  {
   "cell_type": "code",
   "execution_count": 14,
   "metadata": {},
   "outputs": [
    {
     "data": {
      "text/plain": [
       "22"
      ]
     },
     "execution_count": 14,
     "metadata": {},
     "output_type": "execute_result"
    }
   ],
   "source": [
    "df['locus_id'].nunique()"
   ]
  },
  {
   "cell_type": "code",
   "execution_count": 8,
   "metadata": {},
   "outputs": [
    {
     "data": {
      "text/html": [
       "<div>\n",
       "<style scoped>\n",
       "    .dataframe tbody tr th:only-of-type {\n",
       "        vertical-align: middle;\n",
       "    }\n",
       "\n",
       "    .dataframe tbody tr th {\n",
       "        vertical-align: top;\n",
       "    }\n",
       "\n",
       "    .dataframe thead th {\n",
       "        text-align: right;\n",
       "    }\n",
       "</style>\n",
       "<table border=\"1\" class=\"dataframe\">\n",
       "  <thead>\n",
       "    <tr style=\"text-align: right;\">\n",
       "      <th></th>\n",
       "      <th>locus_id</th>\n",
       "      <th>cre_sequence</th>\n",
       "      <th>cre_chrom</th>\n",
       "      <th>cre_start</th>\n",
       "      <th>cre_end</th>\n",
       "      <th>summit_center</th>\n",
       "      <th>cell_leiden</th>\n",
       "      <th>tf_state</th>\n",
       "      <th>cre_expression</th>\n",
       "    </tr>\n",
       "  </thead>\n",
       "  <tbody>\n",
       "    <tr>\n",
       "      <th>857332</th>\n",
       "      <td>chr10_58267793_58268294_-</td>\n",
       "      <td>CTGCCCAACTCTCGGCGGAACGCGGCTCCCGGCTCCTGTTCCTCTG...</td>\n",
       "      <td>chr10</td>\n",
       "      <td>58267793</td>\n",
       "      <td>58268294</td>\n",
       "      <td>58268054</td>\n",
       "      <td>0</td>\n",
       "      <td>[12.290051   -0.29787436 -0.5516869   0.903908...</td>\n",
       "      <td>0.927106</td>\n",
       "    </tr>\n",
       "    <tr>\n",
       "      <th>857333</th>\n",
       "      <td>chr10_58267793_58268294_-</td>\n",
       "      <td>CTGCCCAACTCTCGGCGGAACGCGGCTCCCGGCTCCTGTTCCTCTG...</td>\n",
       "      <td>chr10</td>\n",
       "      <td>58267793</td>\n",
       "      <td>58268294</td>\n",
       "      <td>58268054</td>\n",
       "      <td>1</td>\n",
       "      <td>[ 1.62722263e+01 -6.06215656e-01 -1.01074785e-...</td>\n",
       "      <td>0.000000</td>\n",
       "    </tr>\n",
       "    <tr>\n",
       "      <th>857334</th>\n",
       "      <td>chr10_58267793_58268294_-</td>\n",
       "      <td>CTGCCCAACTCTCGGCGGAACGCGGCTCCCGGCTCCTGTTCCTCTG...</td>\n",
       "      <td>chr10</td>\n",
       "      <td>58267793</td>\n",
       "      <td>58268294</td>\n",
       "      <td>58268054</td>\n",
       "      <td>10</td>\n",
       "      <td>[-3.3684096   7.3105493  -0.5453875   1.715907...</td>\n",
       "      <td>0.000000</td>\n",
       "    </tr>\n",
       "    <tr>\n",
       "      <th>857335</th>\n",
       "      <td>chr10_58267793_58268294_-</td>\n",
       "      <td>CTGCCCAACTCTCGGCGGAACGCGGCTCCCGGCTCCTGTTCCTCTG...</td>\n",
       "      <td>chr10</td>\n",
       "      <td>58267793</td>\n",
       "      <td>58268294</td>\n",
       "      <td>58268054</td>\n",
       "      <td>100</td>\n",
       "      <td>[ 1.0856134e+01  2.7644700e-01  2.2283373e+00 ...</td>\n",
       "      <td>0.000000</td>\n",
       "    </tr>\n",
       "    <tr>\n",
       "      <th>857336</th>\n",
       "      <td>chr10_58267793_58268294_-</td>\n",
       "      <td>CTGCCCAACTCTCGGCGGAACGCGGCTCCCGGCTCCTGTTCCTCTG...</td>\n",
       "      <td>chr10</td>\n",
       "      <td>58267793</td>\n",
       "      <td>58268294</td>\n",
       "      <td>58268054</td>\n",
       "      <td>101</td>\n",
       "      <td>[10.28082    -0.5057329  -1.1006231  -0.020064...</td>\n",
       "      <td>0.000000</td>\n",
       "    </tr>\n",
       "    <tr>\n",
       "      <th>...</th>\n",
       "      <td>...</td>\n",
       "      <td>...</td>\n",
       "      <td>...</td>\n",
       "      <td>...</td>\n",
       "      <td>...</td>\n",
       "      <td>...</td>\n",
       "      <td>...</td>\n",
       "      <td>...</td>\n",
       "      <td>...</td>\n",
       "    </tr>\n",
       "    <tr>\n",
       "      <th>7393780</th>\n",
       "      <td>chrM_3063_3604_-</td>\n",
       "      <td>ATCTGAGTTCAGACCGGAGTAATCCAGGTCGGTTTCTATCTACNTT...</td>\n",
       "      <td>chrM</td>\n",
       "      <td>3063</td>\n",
       "      <td>3604</td>\n",
       "      <td>3254</td>\n",
       "      <td>95</td>\n",
       "      <td>[11.820778   -1.4264985   0.93041694 -1.560866...</td>\n",
       "      <td>0.000000</td>\n",
       "    </tr>\n",
       "    <tr>\n",
       "      <th>7393781</th>\n",
       "      <td>chrM_3063_3604_-</td>\n",
       "      <td>ATCTGAGTTCAGACCGGAGTAATCCAGGTCGGTTTCTATCTACNTT...</td>\n",
       "      <td>chrM</td>\n",
       "      <td>3063</td>\n",
       "      <td>3604</td>\n",
       "      <td>3254</td>\n",
       "      <td>96</td>\n",
       "      <td>[-3.2084305   1.5347707  -0.32373002 -0.791447...</td>\n",
       "      <td>0.000000</td>\n",
       "    </tr>\n",
       "    <tr>\n",
       "      <th>7393782</th>\n",
       "      <td>chrM_3063_3604_-</td>\n",
       "      <td>ATCTGAGTTCAGACCGGAGTAATCCAGGTCGGTTTCTATCTACNTT...</td>\n",
       "      <td>chrM</td>\n",
       "      <td>3063</td>\n",
       "      <td>3604</td>\n",
       "      <td>3254</td>\n",
       "      <td>97</td>\n",
       "      <td>[ 9.050616   -0.5783193  -1.8569765   0.332020...</td>\n",
       "      <td>0.000000</td>\n",
       "    </tr>\n",
       "    <tr>\n",
       "      <th>7393783</th>\n",
       "      <td>chrM_3063_3604_-</td>\n",
       "      <td>ATCTGAGTTCAGACCGGAGTAATCCAGGTCGGTTTCTATCTACNTT...</td>\n",
       "      <td>chrM</td>\n",
       "      <td>3063</td>\n",
       "      <td>3604</td>\n",
       "      <td>3254</td>\n",
       "      <td>98</td>\n",
       "      <td>[-1.71419    -0.64675546  4.619326   -4.230164...</td>\n",
       "      <td>0.000000</td>\n",
       "    </tr>\n",
       "    <tr>\n",
       "      <th>7393784</th>\n",
       "      <td>chrM_3063_3604_-</td>\n",
       "      <td>ATCTGAGTTCAGACCGGAGTAATCCAGGTCGGTTTCTATCTACNTT...</td>\n",
       "      <td>chrM</td>\n",
       "      <td>3063</td>\n",
       "      <td>3604</td>\n",
       "      <td>3254</td>\n",
       "      <td>99</td>\n",
       "      <td>[-3.2601507   3.824468    1.0391906   0.461176...</td>\n",
       "      <td>0.000000</td>\n",
       "    </tr>\n",
       "  </tbody>\n",
       "</table>\n",
       "<p>1407 rows × 9 columns</p>\n",
       "</div>"
      ],
      "text/plain": [
       "                          locus_id  \\\n",
       "857332   chr10_58267793_58268294_-   \n",
       "857333   chr10_58267793_58268294_-   \n",
       "857334   chr10_58267793_58268294_-   \n",
       "857335   chr10_58267793_58268294_-   \n",
       "857336   chr10_58267793_58268294_-   \n",
       "...                            ...   \n",
       "7393780           chrM_3063_3604_-   \n",
       "7393781           chrM_3063_3604_-   \n",
       "7393782           chrM_3063_3604_-   \n",
       "7393783           chrM_3063_3604_-   \n",
       "7393784           chrM_3063_3604_-   \n",
       "\n",
       "                                              cre_sequence cre_chrom  \\\n",
       "857332   CTGCCCAACTCTCGGCGGAACGCGGCTCCCGGCTCCTGTTCCTCTG...     chr10   \n",
       "857333   CTGCCCAACTCTCGGCGGAACGCGGCTCCCGGCTCCTGTTCCTCTG...     chr10   \n",
       "857334   CTGCCCAACTCTCGGCGGAACGCGGCTCCCGGCTCCTGTTCCTCTG...     chr10   \n",
       "857335   CTGCCCAACTCTCGGCGGAACGCGGCTCCCGGCTCCTGTTCCTCTG...     chr10   \n",
       "857336   CTGCCCAACTCTCGGCGGAACGCGGCTCCCGGCTCCTGTTCCTCTG...     chr10   \n",
       "...                                                    ...       ...   \n",
       "7393780  ATCTGAGTTCAGACCGGAGTAATCCAGGTCGGTTTCTATCTACNTT...      chrM   \n",
       "7393781  ATCTGAGTTCAGACCGGAGTAATCCAGGTCGGTTTCTATCTACNTT...      chrM   \n",
       "7393782  ATCTGAGTTCAGACCGGAGTAATCCAGGTCGGTTTCTATCTACNTT...      chrM   \n",
       "7393783  ATCTGAGTTCAGACCGGAGTAATCCAGGTCGGTTTCTATCTACNTT...      chrM   \n",
       "7393784  ATCTGAGTTCAGACCGGAGTAATCCAGGTCGGTTTCTATCTACNTT...      chrM   \n",
       "\n",
       "         cre_start   cre_end  summit_center  cell_leiden  \\\n",
       "857332    58267793  58268294       58268054            0   \n",
       "857333    58267793  58268294       58268054            1   \n",
       "857334    58267793  58268294       58268054           10   \n",
       "857335    58267793  58268294       58268054          100   \n",
       "857336    58267793  58268294       58268054          101   \n",
       "...            ...       ...            ...          ...   \n",
       "7393780       3063      3604           3254           95   \n",
       "7393781       3063      3604           3254           96   \n",
       "7393782       3063      3604           3254           97   \n",
       "7393783       3063      3604           3254           98   \n",
       "7393784       3063      3604           3254           99   \n",
       "\n",
       "                                                  tf_state  cre_expression  \n",
       "857332   [12.290051   -0.29787436 -0.5516869   0.903908...        0.927106  \n",
       "857333   [ 1.62722263e+01 -6.06215656e-01 -1.01074785e-...        0.000000  \n",
       "857334   [-3.3684096   7.3105493  -0.5453875   1.715907...        0.000000  \n",
       "857335   [ 1.0856134e+01  2.7644700e-01  2.2283373e+00 ...        0.000000  \n",
       "857336   [10.28082    -0.5057329  -1.1006231  -0.020064...        0.000000  \n",
       "...                                                    ...             ...  \n",
       "7393780  [11.820778   -1.4264985   0.93041694 -1.560866...        0.000000  \n",
       "7393781  [-3.2084305   1.5347707  -0.32373002 -0.791447...        0.000000  \n",
       "7393782  [ 9.050616   -0.5783193  -1.8569765   0.332020...        0.000000  \n",
       "7393783  [-1.71419    -0.64675546  4.619326   -4.230164...        0.000000  \n",
       "7393784  [-3.2601507   3.824468    1.0391906   0.461176...        0.000000  \n",
       "\n",
       "[1407 rows x 9 columns]"
      ]
     },
     "execution_count": 8,
     "metadata": {},
     "output_type": "execute_result"
    }
   ],
   "source": [
    "df[df['cre_sequence'].str.contains(\"N\")]"
   ]
  },
  {
   "cell_type": "code",
   "execution_count": 12,
   "metadata": {},
   "outputs": [],
   "source": [
    "pd.options.display.float_format = '{:,.0f}'.format"
   ]
  },
  {
   "cell_type": "code",
   "execution_count": 13,
   "metadata": {},
   "outputs": [
    {
     "data": {
      "text/plain": [
       "count   7,643,762\n",
       "mean          561\n",
       "std           151\n",
       "min           501\n",
       "25%           501\n",
       "50%           501\n",
       "75%           501\n",
       "max         3,654\n",
       "Name: cre_sequence, dtype: float64"
      ]
     },
     "execution_count": 13,
     "metadata": {},
     "output_type": "execute_result"
    }
   ],
   "source": [
    "df['cre_sequence'].str.len().describe()"
   ]
  }
 ],
 "metadata": {
  "kernelspec": {
   "display_name": "Python 3",
   "language": "python",
   "name": "python3"
  },
  "language_info": {
   "codemirror_mode": {
    "name": "ipython",
    "version": 3
   },
   "file_extension": ".py",
   "mimetype": "text/x-python",
   "name": "python",
   "nbconvert_exporter": "python",
   "pygments_lexer": "ipython3",
   "version": "3.10.12"
  }
 },
 "nbformat": 4,
 "nbformat_minor": 2
}
