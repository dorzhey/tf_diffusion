{
 "cells": [
  {
   "cell_type": "code",
   "execution_count": 1,
   "metadata": {
    "metadata": {}
   },
   "outputs": [
    {
     "name": "stderr",
     "output_type": "stream",
     "text": [
      "/root/.local/lib/python3.10/site-packages/tqdm/auto.py:21: TqdmWarning: IProgress not found. Please update jupyter and ipywidgets. See https://ipywidgets.readthedocs.io/en/stable/user_install.html\n",
      "  from .autonotebook import tqdm as notebook_tqdm\n"
     ]
    }
   ],
   "source": [
    "import pandas as pd\n",
    "import muon as mu\n",
    "import scanpy as sc\n",
    "from muon import atac as ac\n",
    "import numpy as np\n",
    "import warnings\n",
    "import pychromvar as pc\n",
    "import sys\n",
    "import os"
   ]
  },
  {
   "cell_type": "code",
   "execution_count": 2,
   "metadata": {
    "metadata": {}
   },
   "outputs": [
    {
     "name": "stdout",
     "output_type": "stream",
     "text": [
      "Added `interval` annotation for features from /workspaces/projects/re_diffusion/data_utils/../../re_design/10x_data/pbmc_granulocyte_sorted_3k_filtered_feature_bc_matrix.h5\n"
     ]
    }
   ],
   "source": [
    "file_dir = os.path.abspath('')\n",
    "data_path = os.path.join(file_dir, '..', '..', 're_design', '10x_data')\n",
    "\n",
    "h5_file_path = os.path.join(data_path, 'pbmc_granulocyte_sorted_3k_filtered_feature_bc_matrix.h5')\n",
    "ann_file_path = os.path.join(data_path, \"pbmc_granulocyte_sorted_3k_atac_peak_annotation.tsv\")\n",
    "genome_file_path = os.path.join(data_path, 'refdata-gex-GRCh38-2020-A','fasta', 'genome.fa')\n",
    "save_path = os.path.join(file_dir, 'generated_data')\n",
    "\n",
    "with warnings.catch_warnings():\n",
    "    warnings.simplefilter(\"ignore\")\n",
    "    mdata = mu.read_10x_h5(h5_file_path)\n",
    "\n",
    "mdata.var_names_make_unique()"
   ]
  },
  {
   "cell_type": "markdown",
   "metadata": {},
   "source": [
    "# QC"
   ]
  },
  {
   "cell_type": "code",
   "execution_count": 8,
   "metadata": {
    "metadata": {}
   },
   "outputs": [],
   "source": [
    "# annotate the group of mitochondrial genes as 'mt'\n",
    "mdata['rna'].var['mt'] = mdata['rna'].var_names.str.startswith('MT-')\n",
    "# Compute QC metrics for RNA\n",
    "sc.pp.calculate_qc_metrics(mdata['rna'], qc_vars=['mt'], percent_top=None, log1p=False, inplace=True)\n",
    "\n",
    "mu.pp.filter_var(mdata['rna'], 'n_cells_by_counts', lambda x: x >= 3)\n",
    "mu.pp.filter_obs(mdata['rna'], 'n_genes_by_counts', lambda x: (x >= 200) & (x < 5000))\n",
    "mu.pp.filter_obs(mdata['rna'], 'total_counts', lambda    x: x < 15000)\n",
    "mu.pp.filter_obs(mdata['rna'], 'pct_counts_mt', lambda x: x < 20)\n",
    "\n",
    "# Compute QC metrics for ATAC\n",
    "sc.pp.calculate_qc_metrics(mdata['atac'], percent_top=None, log1p=False, inplace=True)\n",
    "# Filter ATAC based on quality metrics\n",
    "mu.pp.filter_var(mdata['atac'], 'n_cells_by_counts', lambda x: x >= 50)\n",
    "mu.pp.filter_obs(mdata['atac'], 'n_genes_by_counts', lambda x: (x >= 2000) & (x <= 15000))\n",
    "mu.pp.filter_obs(mdata['atac'], 'total_counts', lambda x: (x >= 4000) & (x <= 40000))\n",
    "# Intersect observations to keep only cells present in both modalities\n",
    "mu.pp.intersect_obs(mdata)"
   ]
  },
  {
   "cell_type": "markdown",
   "metadata": {},
   "source": [
    "# Normalize"
   ]
  },
  {
   "cell_type": "code",
   "execution_count": 9,
   "metadata": {
    "metadata": {}
   },
   "outputs": [
    {
     "name": "stderr",
     "output_type": "stream",
     "text": [
      "/usr/local/lib/python3.10/dist-packages/scanpy/preprocessing/_highly_variable_genes.py:226: FutureWarning: The default of observed=False is deprecated and will be changed to True in a future version of pandas. Pass observed=False to retain current behavior or observed=True to adopt the future default and silence this warning.\n",
      "  disp_grouped = df.groupby(\"mean_bin\")[\"dispersions\"]\n"
     ]
    }
   ],
   "source": [
    "mdata['rna'].layers[\"counts\"] = mdata['rna'].X.copy()\n",
    "sc.pp.normalize_total(mdata['rna'], target_sum=1e4)\n",
    "sc.pp.log1p(mdata['rna'])\n",
    "\n",
    "sc.pp.highly_variable_genes(mdata['rna'], min_mean=0.02, max_mean=4, min_disp=0.5)\n",
    "sc.pp.scale(mdata['rna'], max_value=10)\n",
    "sc.tl.pca(mdata['rna'], svd_solver='arpack')\n",
    "\n",
    "mdata['atac'].layers[\"counts\"] = mdata['atac'].X\n",
    "# Transform peak counts with TF-IDF (Term Frequency - Inverse Document Frequency)\n",
    "ac.pp.tfidf(mdata['atac'], scale_factor=None)\n",
    "# Run Latent Semantic Indexing\n",
    "ac.tl.lsi(mdata['atac'])"
   ]
  },
  {
   "cell_type": "markdown",
   "metadata": {},
   "source": [
    "# Annotation merge"
   ]
  },
  {
   "cell_type": "code",
   "execution_count": 10,
   "metadata": {
    "metadata": {}
   },
   "outputs": [],
   "source": [
    "# # read cellranger peak annotation with vectorized interval creation\n",
    "# peak_annotation = pd.read_csv(ann_file_path, sep='\\t')\n",
    "# peak_annotation['interval'] = peak_annotation['chrom'] + ':' + peak_annotation['start'].astype(str) + '-' + peak_annotation['end'].astype(str)\n",
    "\n",
    "# # using groupby to handle duplicates and aggregate values\n",
    "# aggregated = peak_annotation.groupby('interval').agg({\n",
    "# 'gene': lambda x: list(x.dropna().astype(str)),\n",
    "# 'distance': lambda x: list(map(str, x.dropna())),\n",
    "# 'peak_type': lambda x: list(x.dropna().astype(str))\n",
    "# }).reset_index()\n",
    "\n",
    "# # merge directly \n",
    "\n",
    "# mdata['atac'].var = pd.merge(mdata['atac'].var, aggregated, on='interval', how='left')\n",
    "# mdata.mod['atac'].var_names = mdata.mod['atac'].var.interval"
   ]
  },
  {
   "cell_type": "code",
   "execution_count": 6,
   "metadata": {
    "metadata": {}
   },
   "outputs": [
    {
     "name": "stderr",
     "output_type": "stream",
     "text": [
      "/root/.local/lib/python3.10/site-packages/muon/_atac/tools.py:118: FutureWarning: Setting an item of incompatible dtype is deprecated and will raise an error in a future version of pandas. Value '' has dtype incompatible with float64, please explicitly cast to a compatible dtype first.\n",
      "  pa.loc[pa.distance.isnull(), \"distance\"] = \"\"\n",
      "Exception ignored in: <bound method IPythonKernel._clean_thread_parent_frames of <ipykernel.ipkernel.IPythonKernel object at 0x7feb8eb57190>>\n",
      "Traceback (most recent call last):\n",
      "  File \"/root/.local/lib/python3.10/site-packages/ipykernel/ipkernel.py\", line 775, in _clean_thread_parent_frames\n",
      "    def _clean_thread_parent_frames(\n",
      "KeyboardInterrupt: \n"
     ]
    }
   ],
   "source": [
    "peak_annotation = pd.read_csv(ann_file_path, sep='\\t')\n",
    "# Parse peak annotation file and add it to the .uns[“atac”][“peak_annotation”]\n",
    "ac.tl.add_peak_annotation(mdata, peak_annotation)"
   ]
  },
  {
   "cell_type": "markdown",
   "metadata": {},
   "source": [
    "# Add peak sequence"
   ]
  },
  {
   "cell_type": "code",
   "execution_count": 11,
   "metadata": {
    "metadata": {}
   },
   "outputs": [
    {
     "name": "stderr",
     "output_type": "stream",
     "text": [
      "100%|██████████| 62871/62871 [00:08<00:00, 7355.94it/s]\n"
     ]
    }
   ],
   "source": [
    "mdata['atac'].X = mdata['atac'].layers[\"counts\"]\n",
    "# adds mdata['atac'].uns['peak_seq']\n",
    "pc.add_peak_seq(mdata, genome_file=genome_file_path, delimiter=\":|-\")"
   ]
  },
  {
   "cell_type": "code",
   "execution_count": 12,
   "metadata": {
    "metadata": {}
   },
   "outputs": [],
   "source": [
    "mdata['atac'].var['peak_seq'] = mdata.mod['atac'].uns['peak_seq']"
   ]
  },
  {
   "cell_type": "markdown",
   "metadata": {},
   "source": [
    "# Create gene cluster connection based on combined modality and rank genes"
   ]
  },
  {
   "cell_type": "code",
   "execution_count": 9,
   "metadata": {
    "metadata": {}
   },
   "outputs": [
    {
     "name": "stderr",
     "output_type": "stream",
     "text": [
      "/usr/local/lib/python3.10/dist-packages/scanpy/plotting/_tools/scatterplots.py:1234: FutureWarning: The default value of 'ignore' for the `na_action` parameter in pandas.Categorical.map is deprecated and will be changed to 'None' in a future version. Please set na_action to the desired value to avoid seeing this warning\n",
      "  color_vector = pd.Categorical(values.map(color_map))\n",
      "/usr/local/lib/python3.10/dist-packages/scanpy/plotting/_tools/scatterplots.py:394: UserWarning: No data for colormapping provided via 'c'. Parameters 'cmap' will be ignored\n",
      "  cax = scatter(\n"
     ]
    },
    {
     "data": {
      "image/png": "[encoded data removed]",
      "text/plain": [
       "<Figure size 640x480 with 1 Axes>"
      ]
     },
     "metadata": {},
     "output_type": "display_data"
    }
   ],
   "source": [
    "# # compute the neighbors for only rna\n",
    "# sc.pp.neighbors(mdata['rna'], n_neighbors=200)\n",
    "# # compute the neighbors for only atac\n",
    "# sc.pp.neighbors(mdata['atac'], use_rep=\"X_lsi\", n_neighbors=200)\n",
    "# mu.pp.neighbors(mdata, key_added='wnn')\n",
    "# mu.tl.umap(mdata, neighbors_key='wnn', random_state=10)\n",
    "\n",
    "# # cluster the cells with leiden\n",
    "# sc.tl.leiden(mdata, resolution=.05, neighbors_key='wnn', key_added='leiden_wnn')\n",
    "# # plot\n",
    "# mu.pl.umap(mdata, color=['leiden_wnn'], frameon=False, title=\"UMAP embedding\", legend_loc=\"on data\")\n",
    "\n",
    "# mdata['rna'].obs['leiden_wnn'] = mdata.obs['leiden_wnn']\n",
    "# # rank the differentially expressed genes  \n",
    "# sc.tl.rank_genes_groups(mdata.mod['rna'], 'leiden_wnn', method='wilcoxon')\n",
    "# # transform into format gene,cluster and take only statistically significant\n",
    "# from collections import defaultdict \n",
    "\n",
    "# filter_by_pvalue = pd.DataFrame(mdata.mod['rna'].uns['rank_genes_groups']['pvals_adj'])<0.05\n",
    "# de_rna = pd.DataFrame(mdata.mod['rna'].uns['rank_genes_groups']['names'])[filter_by_pvalue]\n",
    "# pvalues = pd.DataFrame(mdata.mod['rna'].uns['rank_genes_groups']['pvals_adj'])[filter_by_pvalue]\n",
    "# gene_cluster_pvalues  = defaultdict(dict)\n",
    "# # flatten into list of unique genes in format gene:cluster \n",
    "# for idx, row in de_rna.iterrows():\n",
    "#     for cluster, gene in enumerate(row):\n",
    "#         if gene:\n",
    "#             gene_cluster_pvalues[gene][int(cluster)] = pvalues.iloc[idx,cluster]\n",
    "\n",
    "# gene_cluster = {}\n",
    "\n",
    "# for gene, cluter_dict in gene_cluster_pvalues.items():\n",
    "#     # choose cluster with minimum p-value\n",
    "#     gene_cluster[gene] = min(cluter_dict, key=cluter_dict.get)"
   ]
  },
  {
   "cell_type": "markdown",
   "metadata": {},
   "source": [
    "# Create gene cluster connection based on ATAC and peaks"
   ]
  },
  {
   "cell_type": "code",
   "execution_count": 13,
   "metadata": {},
   "outputs": [
    {
     "name": "stderr",
     "output_type": "stream",
     "text": [
      "... storing 'feature_types' as categorical\n",
      "... storing 'genome' as categorical\n",
      "/usr/local/lib/python3.10/dist-packages/scanpy/plotting/_tools/scatterplots.py:1234: FutureWarning: The default value of 'ignore' for the `na_action` parameter in pandas.Categorical.map is deprecated and will be changed to 'None' in a future version. Please set na_action to the desired value to avoid seeing this warning\n",
      "  color_vector = pd.Categorical(values.map(color_map))\n",
      "/usr/local/lib/python3.10/dist-packages/scanpy/plotting/_tools/scatterplots.py:394: UserWarning: No data for colormapping provided via 'c'. Parameters 'cmap' will be ignored\n",
      "  cax = scatter(\n"
     ]
    },
    {
     "data": {
      "image/png": "[encoded data removed]",
      "text/plain": [
       "<Figure size 640x480 with 1 Axes>"
      ]
     },
     "metadata": {},
     "output_type": "display_data"
    }
   ],
   "source": [
    "# compute the neighbors for only atac\n",
    "sc.pp.neighbors(mdata['atac'], use_rep=\"X_lsi\", n_neighbors=100, key_added='wnn')\n",
    "sc.tl.umap(mdata.mod['atac'], neighbors_key='wnn', random_state=10)\n",
    "sc.tl.leiden(mdata.mod['atac'], resolution=.05, neighbors_key='wnn', key_added='leiden_wnn')\n",
    "# plot\n",
    "mu.pl.umap(mdata['atac'], color=['leiden_wnn'], frameon=False, title=\"UMAP embedding\", legend_loc=\"on data\")"
   ]
  },
  {
   "cell_type": "code",
   "execution_count": 14,
   "metadata": {},
   "outputs": [
    {
     "name": "stdout",
     "output_type": "stream",
     "text": [
      "WARNING: It seems you use rank_genes_groups on the raw count data. Please logarithmize your data before calling rank_genes_groups.\n"
     ]
    },
    {
     "name": "stderr",
     "output_type": "stream",
     "text": [
      "/root/.local/lib/python3.10/site-packages/numpy/core/fromnumeric.py:86: FutureWarning: The behavior of DataFrame.sum with axis=None is deprecated, in a future version this will reduce over both axes and return a scalar. To retain the old behavior, pass axis=0 (or do not pass axis)\n",
      "  return reduction(axis=axis, out=out, **passkwargs)\n"
     ]
    }
   ],
   "source": [
    "# rank the differentially expressed genes  \n",
    "sc.tl.rank_genes_groups(mdata.mod['atac'], 'leiden_wnn', method='wilcoxon')"
   ]
  },
  {
   "cell_type": "code",
   "execution_count": 24,
   "metadata": {},
   "outputs": [],
   "source": [
    "# transform into format peak,cluster and filter by p-value and take only first n\n",
    "from collections import defaultdict \n",
    "rank_peak_groups = mdata.mod['atac'].uns['rank_genes_groups']\n",
    "filter_by_pvalue = pd.DataFrame(rank_peak_groups['pvals_adj'])<0.05\n",
    "de_rna = pd.DataFrame(rank_peak_groups['names'])[filter_by_pvalue].iloc[1:10000,:]\n",
    "peak_cluster  = defaultdict(list)\n",
    "# flatten into list of unique genes in format gene:cluster \n",
    "for _, row in de_rna.iterrows():\n",
    "    for cluster, peak in enumerate(row):\n",
    "        if cluster is not None and cluster not in peak_cluster[peak]:\n",
    "            peak_cluster[peak].append(cluster)"
   ]
  },
  {
   "cell_type": "code",
   "execution_count": 42,
   "metadata": {},
   "outputs": [
    {
     "name": "stdout",
     "output_type": "stream",
     "text": [
      "Total peaks: 62861 ; more than 1 cluster peaks: 2414\n"
     ]
    }
   ],
   "source": [
    "print(\"Total peaks:\", len(peak_cluster), \"; more than 1 cluster peaks:\",sum([len(x)>1 for x in peak_cluster.values()]))"
   ]
  },
  {
   "cell_type": "markdown",
   "metadata": {},
   "source": [
    "# Final dataset based on genes"
   ]
  },
  {
   "cell_type": "code",
   "execution_count": 52,
   "metadata": {
    "metadata": {}
   },
   "outputs": [],
   "source": [
    "# # take annonation data\n",
    "# ann_data = mdata.mod['atac'].uns['atac']['peak_annotation']\n",
    "# # get gene as column not index\n",
    "# ann_data = ann_data.reset_index()\n",
    "# # merge atac modality with annotation based on peak id in format chr#:start-end\n",
    "# full_data = mdata['atac'].var.merge( ann_data, left_on='interval', right_on='peak', how='left')\n",
    "# # subset only required columns\n",
    "# full_data = full_data[['peak','gene','peak_type','peak_seq']]\n",
    "# # get chromosome column\n",
    "# full_data['chrom'] = full_data['peak'].apply(lambda x: x.split(':')[0])\n",
    "# # new column cluster by mapping genes to cluster with help of gene_cluster dict\n",
    "# full_data['cell_type'] = full_data['gene'].map(gene_cluster)\n",
    "# # clean\n",
    "# full_data = full_data[full_data.cell_type.notna()]\n",
    "\n",
    "# full_data['cell_type'] = \"ct\"+(full_data.cell_type.astype(int)+1).astype(str)\n",
    "\n",
    "# # for data constitencty with legacy code\n",
    "# full_data.rename(columns={'peak_type':'peaktype','peak_seq':'sequence'}, inplace=True)\n",
    "# full_data"
   ]
  },
  {
   "cell_type": "markdown",
   "metadata": {},
   "source": [
    "# Final dataset based on ATAC peaks"
   ]
  },
  {
   "cell_type": "code",
   "execution_count": 27,
   "metadata": {},
   "outputs": [
    {
     "data": {
      "text/html": [
       "<div>\n",
       "<style scoped>\n",
       "    .dataframe tbody tr th:only-of-type {\n",
       "        vertical-align: middle;\n",
       "    }\n",
       "\n",
       "    .dataframe tbody tr th {\n",
       "        vertical-align: top;\n",
       "    }\n",
       "\n",
       "    .dataframe thead th {\n",
       "        text-align: right;\n",
       "    }\n",
       "</style>\n",
       "<table border=\"1\" class=\"dataframe\">\n",
       "  <thead>\n",
       "    <tr style=\"text-align: right;\">\n",
       "      <th></th>\n",
       "      <th>peak</th>\n",
       "      <th>sequence</th>\n",
       "      <th>chrom</th>\n",
       "      <th>cell_type</th>\n",
       "    </tr>\n",
       "  </thead>\n",
       "  <tbody>\n",
       "    <tr>\n",
       "      <th>0</th>\n",
       "      <td>chr1:633556-634476</td>\n",
       "      <td>TATGACCCACCATAATTACCCCCATACTCCTTACACTATTCCTCAT...</td>\n",
       "      <td>chr1</td>\n",
       "      <td>ct4</td>\n",
       "    </tr>\n",
       "    <tr>\n",
       "      <th>1</th>\n",
       "      <td>chr1:816877-817780</td>\n",
       "      <td>CAAAAGCAGCAGTGGAAAAAGACCATACTATTCAATATATGGTGTT...</td>\n",
       "      <td>chr1</td>\n",
       "      <td>ct2</td>\n",
       "    </tr>\n",
       "    <tr>\n",
       "      <th>2</th>\n",
       "      <td>chr1:844149-845034</td>\n",
       "      <td>CAGACACATACAGAGGGACGATCGTGTGAGGACACAGAGGATGGCA...</td>\n",
       "      <td>chr1</td>\n",
       "      <td>ct1</td>\n",
       "    </tr>\n",
       "    <tr>\n",
       "      <th>3</th>\n",
       "      <td>chr1:869472-870376</td>\n",
       "      <td>CTATCTATCTACCTGCCTATCATCTATCTATCTATTTACTATCTAT...</td>\n",
       "      <td>chr1</td>\n",
       "      <td>ct4</td>\n",
       "    </tr>\n",
       "    <tr>\n",
       "      <th>4</th>\n",
       "      <td>chr1:869472-870376</td>\n",
       "      <td>CTATCTATCTACCTGCCTATCATCTATCTATCTATTTACTATCTAT...</td>\n",
       "      <td>chr1</td>\n",
       "      <td>ct1</td>\n",
       "    </tr>\n",
       "    <tr>\n",
       "      <th>...</th>\n",
       "      <td>...</td>\n",
       "      <td>...</td>\n",
       "      <td>...</td>\n",
       "      <td>...</td>\n",
       "    </tr>\n",
       "    <tr>\n",
       "      <th>27228</th>\n",
       "      <td>chrX:154733963-154734867</td>\n",
       "      <td>CTAACACTTTGAAGAGTGTACCTTTTTTTTGGCAAGGTGATGTTAG...</td>\n",
       "      <td>chrX</td>\n",
       "      <td>ct3</td>\n",
       "    </tr>\n",
       "    <tr>\n",
       "      <th>27229</th>\n",
       "      <td>chrX:155070886-155071794</td>\n",
       "      <td>GAGTTGTACGAGATTCGGGGGCTGTGACTTGGAAATAAAACAAAAT...</td>\n",
       "      <td>chrX</td>\n",
       "      <td>ct4</td>\n",
       "    </tr>\n",
       "    <tr>\n",
       "      <th>27230</th>\n",
       "      <td>chrX:155188576-155189458</td>\n",
       "      <td>TATTGCTTTATGAGTTCTATACAAATTCTGGATACTATTCCTTTGT...</td>\n",
       "      <td>chrX</td>\n",
       "      <td>ct1</td>\n",
       "    </tr>\n",
       "    <tr>\n",
       "      <th>27231</th>\n",
       "      <td>chrX:155242153-155243061</td>\n",
       "      <td>GCTTTAGAAGCCATAAGGGACCACCCTCTTTTTAACAGTTCCCTGT...</td>\n",
       "      <td>chrX</td>\n",
       "      <td>ct2</td>\n",
       "    </tr>\n",
       "    <tr>\n",
       "      <th>27232</th>\n",
       "      <td>chrX:155263994-155264867</td>\n",
       "      <td>CAGGAAGTCCTCTCTCCCCAGAGGCGGTGCAAACCCCGAAGACCCT...</td>\n",
       "      <td>chrX</td>\n",
       "      <td>ct1</td>\n",
       "    </tr>\n",
       "  </tbody>\n",
       "</table>\n",
       "<p>27233 rows × 4 columns</p>\n",
       "</div>"
      ],
      "text/plain": [
       "                           peak  \\\n",
       "0            chr1:633556-634476   \n",
       "1            chr1:816877-817780   \n",
       "2            chr1:844149-845034   \n",
       "3            chr1:869472-870376   \n",
       "4            chr1:869472-870376   \n",
       "...                         ...   \n",
       "27228  chrX:154733963-154734867   \n",
       "27229  chrX:155070886-155071794   \n",
       "27230  chrX:155188576-155189458   \n",
       "27231  chrX:155242153-155243061   \n",
       "27232  chrX:155263994-155264867   \n",
       "\n",
       "                                                sequence chrom cell_type  \n",
       "0      TATGACCCACCATAATTACCCCCATACTCCTTACACTATTCCTCAT...  chr1       ct4  \n",
       "1      CAAAAGCAGCAGTGGAAAAAGACCATACTATTCAATATATGGTGTT...  chr1       ct2  \n",
       "2      CAGACACATACAGAGGGACGATCGTGTGAGGACACAGAGGATGGCA...  chr1       ct1  \n",
       "3      CTATCTATCTACCTGCCTATCATCTATCTATCTATTTACTATCTAT...  chr1       ct4  \n",
       "4      CTATCTATCTACCTGCCTATCATCTATCTATCTATTTACTATCTAT...  chr1       ct1  \n",
       "...                                                  ...   ...       ...  \n",
       "27228  CTAACACTTTGAAGAGTGTACCTTTTTTTTGGCAAGGTGATGTTAG...  chrX       ct3  \n",
       "27229  GAGTTGTACGAGATTCGGGGGCTGTGACTTGGAAATAAAACAAAAT...  chrX       ct4  \n",
       "27230  TATTGCTTTATGAGTTCTATACAAATTCTGGATACTATTCCTTTGT...  chrX       ct1  \n",
       "27231  GCTTTAGAAGCCATAAGGGACCACCCTCTTTTTAACAGTTCCCTGT...  chrX       ct2  \n",
       "27232  CAGGAAGTCCTCTCTCCCCAGAGGCGGTGCAAACCCCGAAGACCCT...  chrX       ct1  \n",
       "\n",
       "[27233 rows x 4 columns]"
      ]
     },
     "execution_count": 27,
     "metadata": {},
     "output_type": "execute_result"
    }
   ],
   "source": [
    "full_data = mdata['atac'].var.reset_index(drop=True)\n",
    "\n",
    "# subset only required columns\n",
    "full_data = full_data[['interval','peak_seq']]\n",
    "# get chromosome column\n",
    "full_data['chrom'] = full_data['interval'].apply(lambda x: x.split(':')[0])\n",
    "# filter out unmapped peaks\n",
    "full_data  = full_data[full_data['chrom'].str.contains('chr')]\n",
    "# new column cluster by mapping genes to cluster with help of gene_cluster dict\n",
    "full_data['cell_type'] = full_data['interval'].map(peak_cluster)\n",
    "full_data = full_data.explode('cell_type')\n",
    "full_data = full_data[full_data.cell_type.notna()]\n",
    "\n",
    "full_data['cell_type'] = \"ct\"+(full_data.cell_type.astype(int)+1).astype(str)\n",
    "full_data.reset_index(drop=True,inplace=True)\n",
    "# for data constitencty with legacy code\n",
    "full_data.rename(columns={'peak_seq':'sequence', 'interval':'peak'}, inplace=True)\n",
    "full_data"
   ]
  },
  {
   "cell_type": "code",
   "execution_count": 53,
   "metadata": {},
   "outputs": [
    {
     "name": "stdout",
     "output_type": "stream",
     "text": [
      "Total peaks: 27233 ; more than 1 cluster: 2535\n"
     ]
    }
   ],
   "source": [
    "print(\"Total peaks:\", full_data.shape[0],\"; more than 1 cluster:\" ,full_data[full_data['peak'].duplicated()].shape[0])"
   ]
  },
  {
   "cell_type": "code",
   "execution_count": 31,
   "metadata": {},
   "outputs": [],
   "source": [
    "np.random.seed(10)\n",
    "train_data=full_data.sample(frac=0.5)\n",
    "test_data=full_data.drop(train_data.index)"
   ]
  },
  {
   "cell_type": "code",
   "execution_count": 32,
   "metadata": {},
   "outputs": [
    {
     "name": "stdout",
     "output_type": "stream",
     "text": [
      "cell_type\n",
      "ct1    5060\n",
      "ct2    4983\n",
      "ct4    2454\n",
      "ct3    1119\n",
      "Name: count, dtype: int64\n",
      "chrom\n",
      "chr1     1329\n",
      "chr2      979\n",
      "chr19     876\n",
      "chr6      821\n",
      "chr17     815\n",
      "chr3      742\n",
      "chr12     736\n",
      "chr11     725\n",
      "chr10     651\n",
      "chr7      629\n",
      "chr5      620\n",
      "chr16     570\n",
      "chr9      563\n",
      "chr8      523\n",
      "chr14     462\n",
      "chr4      452\n",
      "chr15     442\n",
      "chr20     427\n",
      "chr22     357\n",
      "chr13     276\n",
      "chrX      243\n",
      "chr18     214\n",
      "chr21     164\n",
      "Name: count, dtype: int64\n"
     ]
    }
   ],
   "source": [
    "print(train_data['cell_type'].value_counts())\n",
    "print(train_data['chrom'].value_counts())"
   ]
  },
  {
   "cell_type": "code",
   "execution_count": 33,
   "metadata": {},
   "outputs": [
    {
     "name": "stdout",
     "output_type": "stream",
     "text": [
      "cell_type\n",
      "ct2    5016\n",
      "ct1    4935\n",
      "ct4    2513\n",
      "ct3    1153\n",
      "Name: count, dtype: int64\n",
      "chrom\n",
      "chr1     1358\n",
      "chr2     1018\n",
      "chr17     845\n",
      "chr19     833\n",
      "chr3      808\n",
      "chr6      806\n",
      "chr12     724\n",
      "chr11     701\n",
      "chr10     613\n",
      "chr7      605\n",
      "chr5      604\n",
      "chr9      558\n",
      "chr16     549\n",
      "chr8      533\n",
      "chr4      504\n",
      "chr14     500\n",
      "chr15     429\n",
      "chr20     419\n",
      "chr22     349\n",
      "chr13     268\n",
      "chr18     223\n",
      "chrX      202\n",
      "chr21     168\n",
      "Name: count, dtype: int64\n"
     ]
    }
   ],
   "source": [
    "print(test_data['cell_type'].value_counts())\n",
    "print(test_data['chrom'].value_counts())"
   ]
  },
  {
   "cell_type": "code",
   "execution_count": 125,
   "metadata": {},
   "outputs": [
    {
     "data": {
      "text/html": [
       "<div>\n",
       "<style scoped>\n",
       "    .dataframe tbody tr th:only-of-type {\n",
       "        vertical-align: middle;\n",
       "    }\n",
       "\n",
       "    .dataframe tbody tr th {\n",
       "        vertical-align: top;\n",
       "    }\n",
       "\n",
       "    .dataframe thead th {\n",
       "        text-align: right;\n",
       "    }\n",
       "</style>\n",
       "<table border=\"1\" class=\"dataframe\">\n",
       "  <thead>\n",
       "    <tr style=\"text-align: right;\">\n",
       "      <th></th>\n",
       "      <th></th>\n",
       "      <th>count</th>\n",
       "    </tr>\n",
       "    <tr>\n",
       "      <th>cell_type</th>\n",
       "      <th>chrom</th>\n",
       "      <th></th>\n",
       "    </tr>\n",
       "  </thead>\n",
       "  <tbody>\n",
       "    <tr>\n",
       "      <th rowspan=\"5\" valign=\"top\">ct1</th>\n",
       "      <th>chr1</th>\n",
       "      <td>2381</td>\n",
       "    </tr>\n",
       "    <tr>\n",
       "      <th>chr10</th>\n",
       "      <td>1122</td>\n",
       "    </tr>\n",
       "    <tr>\n",
       "      <th>chr11</th>\n",
       "      <td>1288</td>\n",
       "    </tr>\n",
       "    <tr>\n",
       "      <th>chr12</th>\n",
       "      <td>1325</td>\n",
       "    </tr>\n",
       "    <tr>\n",
       "      <th>chr13</th>\n",
       "      <td>495</td>\n",
       "    </tr>\n",
       "    <tr>\n",
       "      <th>...</th>\n",
       "      <th>...</th>\n",
       "      <td>...</td>\n",
       "    </tr>\n",
       "    <tr>\n",
       "      <th rowspan=\"5\" valign=\"top\">ct4</th>\n",
       "      <th>chr6</th>\n",
       "      <td>372</td>\n",
       "    </tr>\n",
       "    <tr>\n",
       "      <th>chr7</th>\n",
       "      <td>256</td>\n",
       "    </tr>\n",
       "    <tr>\n",
       "      <th>chr8</th>\n",
       "      <td>229</td>\n",
       "    </tr>\n",
       "    <tr>\n",
       "      <th>chr9</th>\n",
       "      <td>225</td>\n",
       "    </tr>\n",
       "    <tr>\n",
       "      <th>chrX</th>\n",
       "      <td>56</td>\n",
       "    </tr>\n",
       "  </tbody>\n",
       "</table>\n",
       "<p>92 rows × 1 columns</p>\n",
       "</div>"
      ],
      "text/plain": [
       "                 count\n",
       "cell_type chrom       \n",
       "ct1       chr1    2381\n",
       "          chr10   1122\n",
       "          chr11   1288\n",
       "          chr12   1325\n",
       "          chr13    495\n",
       "...                ...\n",
       "ct4       chr6     372\n",
       "          chr7     256\n",
       "          chr8     229\n",
       "          chr9     225\n",
       "          chrX      56\n",
       "\n",
       "[92 rows x 1 columns]"
      ]
     },
     "execution_count": 125,
     "metadata": {},
     "output_type": "execute_result"
    }
   ],
   "source": [
    "pd.DataFrame(full_data[['cell_type','chrom']].groupby('cell_type').value_counts()).sort_index()"
   ]
  },
  {
   "cell_type": "code",
   "execution_count": 34,
   "metadata": {
    "metadata": {}
   },
   "outputs": [
    {
     "name": "stdout",
     "output_type": "stream",
     "text": [
      "File statistics\n",
      "cell_type\n",
      "ct2    9999\n",
      "ct1    9995\n",
      "ct4    4967\n",
      "ct3    2272\n",
      "Name: count, dtype: int64\n",
      "chrom\n",
      "chr1     2687\n",
      "chr2     1997\n",
      "chr19    1709\n",
      "chr17    1660\n",
      "chr6     1627\n",
      "chr3     1550\n",
      "chr12    1460\n",
      "chr11    1426\n",
      "chr10    1264\n",
      "chr7     1234\n",
      "chr5     1224\n",
      "chr9     1121\n",
      "chr16    1119\n",
      "chr8     1056\n",
      "chr14     962\n",
      "chr4      956\n",
      "chr15     871\n",
      "chr20     846\n",
      "chr22     706\n",
      "chr13     544\n",
      "chrX      445\n",
      "chr18     437\n",
      "chr21     332\n",
      "Name: count, dtype: int64\n"
     ]
    }
   ],
   "source": [
    "print(\"File statistics\")\n",
    "print(full_data['cell_type'].value_counts())\n",
    "print(full_data['chrom'].value_counts())"
   ]
  },
  {
   "cell_type": "code",
   "execution_count": 37,
   "metadata": {},
   "outputs": [
    {
     "data": {
      "text/plain": [
       "count    27233.000000\n",
       "mean       865.605809\n",
       "std         77.835002\n",
       "min        239.000000\n",
       "25%        855.000000\n",
       "50%        889.000000\n",
       "75%        907.000000\n",
       "max       1567.000000\n",
       "Name: sequence, dtype: float64"
      ]
     },
     "execution_count": 37,
     "metadata": {},
     "output_type": "execute_result"
    }
   ],
   "source": [
    "full_data['sequence'].str.len().describe()"
   ]
  },
  {
   "cell_type": "code",
   "execution_count": 35,
   "metadata": {},
   "outputs": [],
   "source": [
    "file_name = os.path.join(save_path, 'newpeak_promoter-distal_seq_peak_class.csv')\n",
    "\n",
    "full_data.to_csv(file_name, index=False)"
   ]
  },
  {
   "cell_type": "code",
   "execution_count": 61,
   "metadata": {},
   "outputs": [],
   "source": [
    "temp = []\n",
    "for c, df in full_data[full_data[\"chrom\"]==\"chr2\"].groupby('cell_type'):\n",
    "    if c == 'ct1':\n",
    "        temp = df"
   ]
  },
  {
   "cell_type": "code",
   "execution_count": 63,
   "metadata": {},
   "outputs": [],
   "source": [
    "num_sequences = 1000\n",
    "seq_to_subset_comp = True\n",
    "if num_sequences is not None and seq_to_subset_comp and num_sequences < temp.shape[0]:\n",
    "    num_to_sample = num_sequences\n",
    "else:\n",
    "    num_to_sample = temp.shape[0]"
   ]
  },
  {
   "cell_type": "code",
   "execution_count": 64,
   "metadata": {},
   "outputs": [
    {
     "data": {
      "text/plain": [
       "741"
      ]
     },
     "execution_count": 64,
     "metadata": {},
     "output_type": "execute_result"
    }
   ],
   "source": [
    "num_to_sample"
   ]
  },
  {
   "cell_type": "code",
   "execution_count": 66,
   "metadata": {},
   "outputs": [
    {
     "data": {
      "text/html": [
       "<div>\n",
       "<style scoped>\n",
       "    .dataframe tbody tr th:only-of-type {\n",
       "        vertical-align: middle;\n",
       "    }\n",
       "\n",
       "    .dataframe tbody tr th {\n",
       "        vertical-align: top;\n",
       "    }\n",
       "\n",
       "    .dataframe thead th {\n",
       "        text-align: right;\n",
       "    }\n",
       "</style>\n",
       "<table border=\"1\" class=\"dataframe\">\n",
       "  <thead>\n",
       "    <tr style=\"text-align: right;\">\n",
       "      <th></th>\n",
       "      <th>peak</th>\n",
       "      <th>sequence</th>\n",
       "      <th>chrom</th>\n",
       "      <th>cell_type</th>\n",
       "    </tr>\n",
       "  </thead>\n",
       "  <tbody>\n",
       "    <tr>\n",
       "      <th>15740</th>\n",
       "      <td>chr2:204967224-204968126</td>\n",
       "      <td>CCAACCATTTGGCCTGAAACCTTGGCATCACCTCCAGTTCCACCGT...</td>\n",
       "      <td>chr2</td>\n",
       "      <td>ct1</td>\n",
       "    </tr>\n",
       "    <tr>\n",
       "      <th>15946</th>\n",
       "      <td>chr2:230864419-230865332</td>\n",
       "      <td>GGAGGCAGCAGTTTGGCGCCTGTCTCAAAGCCTCCTCCCCGCGCCA...</td>\n",
       "      <td>chr2</td>\n",
       "      <td>ct1</td>\n",
       "    </tr>\n",
       "    <tr>\n",
       "      <th>15424</th>\n",
       "      <td>chr2:152718255-152718834</td>\n",
       "      <td>GCTTTGGGGCTGTCGGGGCGCGCGCTCCCGTTGGTGACGCGGGGGT...</td>\n",
       "      <td>chr2</td>\n",
       "      <td>ct1</td>\n",
       "    </tr>\n",
       "    <tr>\n",
       "      <th>16090</th>\n",
       "      <td>chr2:240568090-240568996</td>\n",
       "      <td>CTCCTCGGGAACACGAACCACACCTGGAAGCAGCCTGCCCCTGTGG...</td>\n",
       "      <td>chr2</td>\n",
       "      <td>ct1</td>\n",
       "    </tr>\n",
       "    <tr>\n",
       "      <th>15575</th>\n",
       "      <td>chr2:177618338-177619266</td>\n",
       "      <td>GGCAGCTTGCAGGCGGAGGACCCGGCTGTGGTAGGCGGGGTTATCC...</td>\n",
       "      <td>chr2</td>\n",
       "      <td>ct1</td>\n",
       "    </tr>\n",
       "    <tr>\n",
       "      <th>...</th>\n",
       "      <td>...</td>\n",
       "      <td>...</td>\n",
       "      <td>...</td>\n",
       "      <td>...</td>\n",
       "    </tr>\n",
       "    <tr>\n",
       "      <th>15722</th>\n",
       "      <td>chr2:203238632-203239542</td>\n",
       "      <td>TCGAAAATCATCGGTTTAGAGGTTTTAATTCTGAATCCATTGCGAA...</td>\n",
       "      <td>chr2</td>\n",
       "      <td>ct1</td>\n",
       "    </tr>\n",
       "    <tr>\n",
       "      <th>15767</th>\n",
       "      <td>chr2:207624975-207625839</td>\n",
       "      <td>GACACTGGGGGCCTCCAAGCGGCTCGCGGGGACAGCGGGGACTCGG...</td>\n",
       "      <td>chr2</td>\n",
       "      <td>ct1</td>\n",
       "    </tr>\n",
       "    <tr>\n",
       "      <th>15609</th>\n",
       "      <td>chr2:189440808-189441725</td>\n",
       "      <td>CTGGCGGGACTGGCCGAATGTCAGATTAGCCCGAGCAGCTACACTG...</td>\n",
       "      <td>chr2</td>\n",
       "      <td>ct1</td>\n",
       "    </tr>\n",
       "    <tr>\n",
       "      <th>15400</th>\n",
       "      <td>chr2:148644849-148645544</td>\n",
       "      <td>TCGGGCGGGGTGGGCGCCCATGCTGTGGCCGGGGGCAGTGAGGAGG...</td>\n",
       "      <td>chr2</td>\n",
       "      <td>ct1</td>\n",
       "    </tr>\n",
       "    <tr>\n",
       "      <th>14316</th>\n",
       "      <td>chr2:25276737-25277566</td>\n",
       "      <td>GGGAACCGACAGCGTATCGGGCCTGGGCCCACTGCAGGAAGGTCAC...</td>\n",
       "      <td>chr2</td>\n",
       "      <td>ct1</td>\n",
       "    </tr>\n",
       "  </tbody>\n",
       "</table>\n",
       "<p>741 rows × 4 columns</p>\n",
       "</div>"
      ],
      "text/plain": [
       "                           peak  \\\n",
       "15740  chr2:204967224-204968126   \n",
       "15946  chr2:230864419-230865332   \n",
       "15424  chr2:152718255-152718834   \n",
       "16090  chr2:240568090-240568996   \n",
       "15575  chr2:177618338-177619266   \n",
       "...                         ...   \n",
       "15722  chr2:203238632-203239542   \n",
       "15767  chr2:207624975-207625839   \n",
       "15609  chr2:189440808-189441725   \n",
       "15400  chr2:148644849-148645544   \n",
       "14316    chr2:25276737-25277566   \n",
       "\n",
       "                                                sequence chrom cell_type  \n",
       "15740  CCAACCATTTGGCCTGAAACCTTGGCATCACCTCCAGTTCCACCGT...  chr2       ct1  \n",
       "15946  GGAGGCAGCAGTTTGGCGCCTGTCTCAAAGCCTCCTCCCCGCGCCA...  chr2       ct1  \n",
       "15424  GCTTTGGGGCTGTCGGGGCGCGCGCTCCCGTTGGTGACGCGGGGGT...  chr2       ct1  \n",
       "16090  CTCCTCGGGAACACGAACCACACCTGGAAGCAGCCTGCCCCTGTGG...  chr2       ct1  \n",
       "15575  GGCAGCTTGCAGGCGGAGGACCCGGCTGTGGTAGGCGGGGTTATCC...  chr2       ct1  \n",
       "...                                                  ...   ...       ...  \n",
       "15722  TCGAAAATCATCGGTTTAGAGGTTTTAATTCTGAATCCATTGCGAA...  chr2       ct1  \n",
       "15767  GACACTGGGGGCCTCCAAGCGGCTCGCGGGGACAGCGGGGACTCGG...  chr2       ct1  \n",
       "15609  CTGGCGGGACTGGCCGAATGTCAGATTAGCCCGAGCAGCTACACTG...  chr2       ct1  \n",
       "15400  TCGGGCGGGGTGGGCGCCCATGCTGTGGCCGGGGGCAGTGAGGAGG...  chr2       ct1  \n",
       "14316  GGGAACCGACAGCGTATCGGGCCTGGGCCCACTGCAGGAAGGTCAC...  chr2       ct1  \n",
       "\n",
       "[741 rows x 4 columns]"
      ]
     },
     "execution_count": 66,
     "metadata": {},
     "output_type": "execute_result"
    }
   ],
   "source": [
    "temp.sample(num_to_sample)"
   ]
  },
  {
   "cell_type": "markdown",
   "metadata": {},
   "source": [
    "# Explore"
   ]
  },
  {
   "cell_type": "code",
   "execution_count": 18,
   "metadata": {},
   "outputs": [
    {
     "data": {
      "text/html": [
       "<div>\n",
       "<style scoped>\n",
       "    .dataframe tbody tr th:only-of-type {\n",
       "        vertical-align: middle;\n",
       "    }\n",
       "\n",
       "    .dataframe tbody tr th {\n",
       "        vertical-align: top;\n",
       "    }\n",
       "\n",
       "    .dataframe thead th {\n",
       "        text-align: right;\n",
       "    }\n",
       "</style>\n",
       "<table border=\"1\" class=\"dataframe\">\n",
       "  <thead>\n",
       "    <tr style=\"text-align: right;\">\n",
       "      <th></th>\n",
       "      <th>gene_ids</th>\n",
       "      <th>feature_types</th>\n",
       "      <th>genome</th>\n",
       "      <th>interval</th>\n",
       "      <th>n_cells_by_counts</th>\n",
       "      <th>mean_counts</th>\n",
       "      <th>pct_dropout_by_counts</th>\n",
       "      <th>total_counts</th>\n",
       "      <th>peak_seq</th>\n",
       "      <th>chrom</th>\n",
       "    </tr>\n",
       "  </thead>\n",
       "  <tbody>\n",
       "  </tbody>\n",
       "</table>\n",
       "</div>"
      ],
      "text/plain": [
       "Empty DataFrame\n",
       "Columns: [gene_ids, feature_types, genome, interval, n_cells_by_counts, mean_counts, pct_dropout_by_counts, total_counts, peak_seq, chrom]\n",
       "Index: []"
      ]
     },
     "execution_count": 18,
     "metadata": {},
     "output_type": "execute_result"
    }
   ],
   "source": [
    "temp = mdata['atac'].var\n",
    "temp['chrom'] = temp['gene_ids'].apply(lambda x: x.split(':')[0])\n",
    "temp  = temp[temp['chrom'].str.contains('chr')]\n",
    "ids = temp[\"gene_ids\"]\n",
    "temp[ids.isin(ids[ids.duplicated()])].sort_values(\"gene_ids\")"
   ]
  },
  {
   "cell_type": "code",
   "execution_count": 19,
   "metadata": {},
   "outputs": [
    {
     "data": {
      "text/html": [
       "<div>\n",
       "<style scoped>\n",
       "    .dataframe tbody tr th:only-of-type {\n",
       "        vertical-align: middle;\n",
       "    }\n",
       "\n",
       "    .dataframe tbody tr th {\n",
       "        vertical-align: top;\n",
       "    }\n",
       "\n",
       "    .dataframe thead th {\n",
       "        text-align: right;\n",
       "    }\n",
       "</style>\n",
       "<table border=\"1\" class=\"dataframe\">\n",
       "  <thead>\n",
       "    <tr style=\"text-align: right;\">\n",
       "      <th></th>\n",
       "      <th>gene</th>\n",
       "      <th>peak</th>\n",
       "      <th>distance</th>\n",
       "      <th>peak_type</th>\n",
       "    </tr>\n",
       "  </thead>\n",
       "  <tbody>\n",
       "    <tr>\n",
       "      <th>0</th>\n",
       "      <td>MIR1302-2HG</td>\n",
       "      <td>chr1:9768-10660</td>\n",
       "      <td>-18894</td>\n",
       "      <td>distal</td>\n",
       "    </tr>\n",
       "    <tr>\n",
       "      <th>1</th>\n",
       "      <td>AL627309.5</td>\n",
       "      <td>chr1:180582-181297</td>\n",
       "      <td>-6721</td>\n",
       "      <td>distal</td>\n",
       "    </tr>\n",
       "    <tr>\n",
       "      <th>2</th>\n",
       "      <td>AL627309.5</td>\n",
       "      <td>chr1:181404-181887</td>\n",
       "      <td>-7543</td>\n",
       "      <td>distal</td>\n",
       "    </tr>\n",
       "    <tr>\n",
       "      <th>3</th>\n",
       "      <td>AL627309.5</td>\n",
       "      <td>chr1:191175-192089</td>\n",
       "      <td>-17314</td>\n",
       "      <td>distal</td>\n",
       "    </tr>\n",
       "    <tr>\n",
       "      <th>4</th>\n",
       "      <td>AP006222.2</td>\n",
       "      <td>chr1:267561-268455</td>\n",
       "      <td>707</td>\n",
       "      <td>distal</td>\n",
       "    </tr>\n",
       "    <tr>\n",
       "      <th>...</th>\n",
       "      <td>...</td>\n",
       "      <td>...</td>\n",
       "      <td>...</td>\n",
       "      <td>...</td>\n",
       "    </tr>\n",
       "    <tr>\n",
       "      <th>125112</th>\n",
       "      <td>AC233755.1</td>\n",
       "      <td>KI270726.1:41489-42329</td>\n",
       "      <td>46</td>\n",
       "      <td>promoter</td>\n",
       "    </tr>\n",
       "    <tr>\n",
       "      <th>125113</th>\n",
       "      <td>AC213203.2</td>\n",
       "      <td>KI270713.1:3949-4854</td>\n",
       "      <td>27674</td>\n",
       "      <td>distal</td>\n",
       "    </tr>\n",
       "    <tr>\n",
       "      <th>125114</th>\n",
       "      <td>AC213203.2</td>\n",
       "      <td>KI270713.1:21434-22339</td>\n",
       "      <td>10189</td>\n",
       "      <td>distal</td>\n",
       "    </tr>\n",
       "    <tr>\n",
       "      <th>125115</th>\n",
       "      <td>AC213203.2</td>\n",
       "      <td>KI270713.1:29578-30400</td>\n",
       "      <td>2128</td>\n",
       "      <td>distal</td>\n",
       "    </tr>\n",
       "    <tr>\n",
       "      <th>125116</th>\n",
       "      <td>AC213203.1</td>\n",
       "      <td>KI270713.1:36917-37831</td>\n",
       "      <td>1511</td>\n",
       "      <td>distal</td>\n",
       "    </tr>\n",
       "  </tbody>\n",
       "</table>\n",
       "<p>125117 rows × 4 columns</p>\n",
       "</div>"
      ],
      "text/plain": [
       "               gene                    peak  distance peak_type\n",
       "0       MIR1302-2HG         chr1:9768-10660    -18894    distal\n",
       "1        AL627309.5      chr1:180582-181297     -6721    distal\n",
       "2        AL627309.5      chr1:181404-181887     -7543    distal\n",
       "3        AL627309.5      chr1:191175-192089    -17314    distal\n",
       "4        AP006222.2      chr1:267561-268455       707    distal\n",
       "...             ...                     ...       ...       ...\n",
       "125112   AC233755.1  KI270726.1:41489-42329        46  promoter\n",
       "125113   AC213203.2    KI270713.1:3949-4854     27674    distal\n",
       "125114   AC213203.2  KI270713.1:21434-22339     10189    distal\n",
       "125115   AC213203.2  KI270713.1:29578-30400      2128    distal\n",
       "125116   AC213203.1  KI270713.1:36917-37831      1511    distal\n",
       "\n",
       "[125117 rows x 4 columns]"
      ]
     },
     "execution_count": 19,
     "metadata": {},
     "output_type": "execute_result"
    }
   ],
   "source": [
    "ann_data"
   ]
  },
  {
   "cell_type": "code",
   "execution_count": 20,
   "metadata": {},
   "outputs": [
    {
     "data": {
      "text/html": [
       "<div>\n",
       "<style scoped>\n",
       "    .dataframe tbody tr th:only-of-type {\n",
       "        vertical-align: middle;\n",
       "    }\n",
       "\n",
       "    .dataframe tbody tr th {\n",
       "        vertical-align: top;\n",
       "    }\n",
       "\n",
       "    .dataframe thead th {\n",
       "        text-align: right;\n",
       "    }\n",
       "</style>\n",
       "<table border=\"1\" class=\"dataframe\">\n",
       "  <thead>\n",
       "    <tr style=\"text-align: right;\">\n",
       "      <th></th>\n",
       "      <th>gene_ids</th>\n",
       "      <th>feature_types</th>\n",
       "      <th>genome</th>\n",
       "      <th>interval</th>\n",
       "      <th>n_cells_by_counts</th>\n",
       "      <th>mean_counts</th>\n",
       "      <th>pct_dropout_by_counts</th>\n",
       "      <th>total_counts</th>\n",
       "      <th>peak_seq</th>\n",
       "      <th>chrom</th>\n",
       "      <th>gene</th>\n",
       "      <th>peak</th>\n",
       "      <th>distance</th>\n",
       "      <th>peak_type</th>\n",
       "    </tr>\n",
       "  </thead>\n",
       "  <tbody>\n",
       "    <tr>\n",
       "      <th>10454</th>\n",
       "      <td>chr10:100192150-100193002</td>\n",
       "      <td>Peaks</td>\n",
       "      <td>GRCh38</td>\n",
       "      <td>chr10:100192150-100193002</td>\n",
       "      <td>56</td>\n",
       "      <td>0.042420</td>\n",
       "      <td>97.934342</td>\n",
       "      <td>115.0</td>\n",
       "      <td>ACATTGAAAATGTCTGTCAGATATACTTTTGCAAGCAACTACACTT...</td>\n",
       "      <td>chr10</td>\n",
       "      <td>AL138921.2</td>\n",
       "      <td>chr10:100192150-100193002</td>\n",
       "      <td>2115</td>\n",
       "      <td>distal</td>\n",
       "    </tr>\n",
       "    <tr>\n",
       "      <th>10455</th>\n",
       "      <td>chr10:100192150-100193002</td>\n",
       "      <td>Peaks</td>\n",
       "      <td>GRCh38</td>\n",
       "      <td>chr10:100192150-100193002</td>\n",
       "      <td>56</td>\n",
       "      <td>0.042420</td>\n",
       "      <td>97.934342</td>\n",
       "      <td>115.0</td>\n",
       "      <td>ACATTGAAAATGTCTGTCAGATATACTTTTGCAAGCAACTACACTT...</td>\n",
       "      <td>chr10</td>\n",
       "      <td>CHUK</td>\n",
       "      <td>chr10:100192150-100193002</td>\n",
       "      <td>0</td>\n",
       "      <td>distal</td>\n",
       "    </tr>\n",
       "    <tr>\n",
       "      <th>10456</th>\n",
       "      <td>chr10:100229093-100229951</td>\n",
       "      <td>Peaks</td>\n",
       "      <td>GRCh38</td>\n",
       "      <td>chr10:100229093-100229951</td>\n",
       "      <td>665</td>\n",
       "      <td>0.575065</td>\n",
       "      <td>75.470306</td>\n",
       "      <td>1559.0</td>\n",
       "      <td>CACTGTGACGTGCATCTGCCTCACACACCCTGACACTCCACATTCA...</td>\n",
       "      <td>chr10</td>\n",
       "      <td>AL138921.1</td>\n",
       "      <td>chr10:100229093-100229951</td>\n",
       "      <td>0</td>\n",
       "      <td>promoter</td>\n",
       "    </tr>\n",
       "    <tr>\n",
       "      <th>10457</th>\n",
       "      <td>chr10:100229093-100229951</td>\n",
       "      <td>Peaks</td>\n",
       "      <td>GRCh38</td>\n",
       "      <td>chr10:100229093-100229951</td>\n",
       "      <td>665</td>\n",
       "      <td>0.575065</td>\n",
       "      <td>75.470306</td>\n",
       "      <td>1559.0</td>\n",
       "      <td>CACTGTGACGTGCATCTGCCTCACACACCCTGACACTCCACATTCA...</td>\n",
       "      <td>chr10</td>\n",
       "      <td>CHUK</td>\n",
       "      <td>chr10:100229093-100229951</td>\n",
       "      <td>0</td>\n",
       "      <td>promoter</td>\n",
       "    </tr>\n",
       "    <tr>\n",
       "      <th>10462</th>\n",
       "      <td>chr10:100291073-100291966</td>\n",
       "      <td>Peaks</td>\n",
       "      <td>GRCh38</td>\n",
       "      <td>chr10:100291073-100291966</td>\n",
       "      <td>93</td>\n",
       "      <td>0.069716</td>\n",
       "      <td>96.569532</td>\n",
       "      <td>189.0</td>\n",
       "      <td>CCCAGAGATTCTGGTTTAATTGGTCTAGAGTGTGTGTCCTGAGTAT...</td>\n",
       "      <td>chr10</td>\n",
       "      <td>BLOC1S2</td>\n",
       "      <td>chr10:100291073-100291966</td>\n",
       "      <td>-4394</td>\n",
       "      <td>distal</td>\n",
       "    </tr>\n",
       "    <tr>\n",
       "      <th>...</th>\n",
       "      <td>...</td>\n",
       "      <td>...</td>\n",
       "      <td>...</td>\n",
       "      <td>...</td>\n",
       "      <td>...</td>\n",
       "      <td>...</td>\n",
       "      <td>...</td>\n",
       "      <td>...</td>\n",
       "      <td>...</td>\n",
       "      <td>...</td>\n",
       "      <td>...</td>\n",
       "      <td>...</td>\n",
       "      <td>...</td>\n",
       "      <td>...</td>\n",
       "    </tr>\n",
       "    <tr>\n",
       "      <th>78338</th>\n",
       "      <td>chrX:9676949-9677858</td>\n",
       "      <td>Peaks</td>\n",
       "      <td>GRCh38</td>\n",
       "      <td>chrX:9676949-9677858</td>\n",
       "      <td>157</td>\n",
       "      <td>0.129473</td>\n",
       "      <td>94.208779</td>\n",
       "      <td>351.0</td>\n",
       "      <td>AGGGAACTGGTAGTGAATTCGCCCCACAGATGAAGATAGGATTTCT...</td>\n",
       "      <td>chrX</td>\n",
       "      <td>GPR143</td>\n",
       "      <td>chrX:9676949-9677858</td>\n",
       "      <td>87989</td>\n",
       "      <td>distal</td>\n",
       "    </tr>\n",
       "    <tr>\n",
       "      <th>78341</th>\n",
       "      <td>chrX:9708673-9709569</td>\n",
       "      <td>Peaks</td>\n",
       "      <td>GRCh38</td>\n",
       "      <td>chrX:9708673-9709569</td>\n",
       "      <td>113</td>\n",
       "      <td>0.088897</td>\n",
       "      <td>95.831796</td>\n",
       "      <td>241.0</td>\n",
       "      <td>GAGTTCAAGACCAGCTTGGGCAAAAATCCCAAAAAAAAAAAAAAAA...</td>\n",
       "      <td>chrX</td>\n",
       "      <td>GPR143</td>\n",
       "      <td>chrX:9708673-9709569</td>\n",
       "      <td>56278</td>\n",
       "      <td>distal</td>\n",
       "    </tr>\n",
       "    <tr>\n",
       "      <th>78340</th>\n",
       "      <td>chrX:9708673-9709569</td>\n",
       "      <td>Peaks</td>\n",
       "      <td>GRCh38</td>\n",
       "      <td>chrX:9708673-9709569</td>\n",
       "      <td>113</td>\n",
       "      <td>0.088897</td>\n",
       "      <td>95.831796</td>\n",
       "      <td>241.0</td>\n",
       "      <td>GAGTTCAAGACCAGCTTGGGCAAAAATCCCAAAAAAAAAAAAAAAA...</td>\n",
       "      <td>chrX</td>\n",
       "      <td>TBL1X</td>\n",
       "      <td>chrX:9708673-9709569</td>\n",
       "      <td>0</td>\n",
       "      <td>distal</td>\n",
       "    </tr>\n",
       "    <tr>\n",
       "      <th>79309</th>\n",
       "      <td>chrX:97563305-97564208</td>\n",
       "      <td>Peaks</td>\n",
       "      <td>GRCh38</td>\n",
       "      <td>chrX:97563305-97564208</td>\n",
       "      <td>207</td>\n",
       "      <td>0.164146</td>\n",
       "      <td>92.364441</td>\n",
       "      <td>445.0</td>\n",
       "      <td>TTTGGCAGATTAATCCTTCAGTTTTATCCCTTCAGAGGTATGAGAG...</td>\n",
       "      <td>chrX</td>\n",
       "      <td>DIAPH2</td>\n",
       "      <td>chrX:97563305-97564208</td>\n",
       "      <td>0</td>\n",
       "      <td>distal</td>\n",
       "    </tr>\n",
       "    <tr>\n",
       "      <th>79308</th>\n",
       "      <td>chrX:97563305-97564208</td>\n",
       "      <td>Peaks</td>\n",
       "      <td>GRCh38</td>\n",
       "      <td>chrX:97563305-97564208</td>\n",
       "      <td>207</td>\n",
       "      <td>0.164146</td>\n",
       "      <td>92.364441</td>\n",
       "      <td>445.0</td>\n",
       "      <td>TTTGGCAGATTAATCCTTCAGTTTTATCCCTTCAGAGGTATGAGAG...</td>\n",
       "      <td>chrX</td>\n",
       "      <td>DIAPH2-AS1</td>\n",
       "      <td>chrX:97563305-97564208</td>\n",
       "      <td>297</td>\n",
       "      <td>distal</td>\n",
       "    </tr>\n",
       "  </tbody>\n",
       "</table>\n",
       "<p>33475 rows × 14 columns</p>\n",
       "</div>"
      ],
      "text/plain": [
       "                        gene_ids feature_types  genome  \\\n",
       "10454  chr10:100192150-100193002         Peaks  GRCh38   \n",
       "10455  chr10:100192150-100193002         Peaks  GRCh38   \n",
       "10456  chr10:100229093-100229951         Peaks  GRCh38   \n",
       "10457  chr10:100229093-100229951         Peaks  GRCh38   \n",
       "10462  chr10:100291073-100291966         Peaks  GRCh38   \n",
       "...                          ...           ...     ...   \n",
       "78338       chrX:9676949-9677858         Peaks  GRCh38   \n",
       "78341       chrX:9708673-9709569         Peaks  GRCh38   \n",
       "78340       chrX:9708673-9709569         Peaks  GRCh38   \n",
       "79309     chrX:97563305-97564208         Peaks  GRCh38   \n",
       "79308     chrX:97563305-97564208         Peaks  GRCh38   \n",
       "\n",
       "                        interval  n_cells_by_counts  mean_counts  \\\n",
       "10454  chr10:100192150-100193002                 56     0.042420   \n",
       "10455  chr10:100192150-100193002                 56     0.042420   \n",
       "10456  chr10:100229093-100229951                665     0.575065   \n",
       "10457  chr10:100229093-100229951                665     0.575065   \n",
       "10462  chr10:100291073-100291966                 93     0.069716   \n",
       "...                          ...                ...          ...   \n",
       "78338       chrX:9676949-9677858                157     0.129473   \n",
       "78341       chrX:9708673-9709569                113     0.088897   \n",
       "78340       chrX:9708673-9709569                113     0.088897   \n",
       "79309     chrX:97563305-97564208                207     0.164146   \n",
       "79308     chrX:97563305-97564208                207     0.164146   \n",
       "\n",
       "       pct_dropout_by_counts  total_counts  \\\n",
       "10454              97.934342         115.0   \n",
       "10455              97.934342         115.0   \n",
       "10456              75.470306        1559.0   \n",
       "10457              75.470306        1559.0   \n",
       "10462              96.569532         189.0   \n",
       "...                      ...           ...   \n",
       "78338              94.208779         351.0   \n",
       "78341              95.831796         241.0   \n",
       "78340              95.831796         241.0   \n",
       "79309              92.364441         445.0   \n",
       "79308              92.364441         445.0   \n",
       "\n",
       "                                                peak_seq  chrom        gene  \\\n",
       "10454  ACATTGAAAATGTCTGTCAGATATACTTTTGCAAGCAACTACACTT...  chr10  AL138921.2   \n",
       "10455  ACATTGAAAATGTCTGTCAGATATACTTTTGCAAGCAACTACACTT...  chr10        CHUK   \n",
       "10456  CACTGTGACGTGCATCTGCCTCACACACCCTGACACTCCACATTCA...  chr10  AL138921.1   \n",
       "10457  CACTGTGACGTGCATCTGCCTCACACACCCTGACACTCCACATTCA...  chr10        CHUK   \n",
       "10462  CCCAGAGATTCTGGTTTAATTGGTCTAGAGTGTGTGTCCTGAGTAT...  chr10     BLOC1S2   \n",
       "...                                                  ...    ...         ...   \n",
       "78338  AGGGAACTGGTAGTGAATTCGCCCCACAGATGAAGATAGGATTTCT...   chrX      GPR143   \n",
       "78341  GAGTTCAAGACCAGCTTGGGCAAAAATCCCAAAAAAAAAAAAAAAA...   chrX      GPR143   \n",
       "78340  GAGTTCAAGACCAGCTTGGGCAAAAATCCCAAAAAAAAAAAAAAAA...   chrX       TBL1X   \n",
       "79309  TTTGGCAGATTAATCCTTCAGTTTTATCCCTTCAGAGGTATGAGAG...   chrX      DIAPH2   \n",
       "79308  TTTGGCAGATTAATCCTTCAGTTTTATCCCTTCAGAGGTATGAGAG...   chrX  DIAPH2-AS1   \n",
       "\n",
       "                            peak  distance peak_type  \n",
       "10454  chr10:100192150-100193002      2115    distal  \n",
       "10455  chr10:100192150-100193002         0    distal  \n",
       "10456  chr10:100229093-100229951         0  promoter  \n",
       "10457  chr10:100229093-100229951         0  promoter  \n",
       "10462  chr10:100291073-100291966     -4394    distal  \n",
       "...                          ...       ...       ...  \n",
       "78338       chrX:9676949-9677858     87989    distal  \n",
       "78341       chrX:9708673-9709569     56278    distal  \n",
       "78340       chrX:9708673-9709569         0    distal  \n",
       "79309     chrX:97563305-97564208         0    distal  \n",
       "79308     chrX:97563305-97564208       297    distal  \n",
       "\n",
       "[33475 rows x 14 columns]"
      ]
     },
     "execution_count": 20,
     "metadata": {},
     "output_type": "execute_result"
    }
   ],
   "source": [
    "temp = mdata['atac'].var.merge( ann_data, left_on='interval', right_on='peak', how='left')\n",
    "temp['chrom'] = temp['peak'].apply(lambda x: x.split(':')[0])\n",
    "temp  = temp[temp['chrom'].str.contains('chr')]\n",
    "ids = temp[\"gene_ids\"]\n",
    "temp[ids.isin(ids[ids.duplicated()])].sort_values(\"gene_ids\")"
   ]
  },
  {
   "cell_type": "code",
   "execution_count": 21,
   "metadata": {},
   "outputs": [
    {
     "data": {
      "text/html": [
       "<div>\n",
       "<style scoped>\n",
       "    .dataframe tbody tr th:only-of-type {\n",
       "        vertical-align: middle;\n",
       "    }\n",
       "\n",
       "    .dataframe tbody tr th {\n",
       "        vertical-align: top;\n",
       "    }\n",
       "\n",
       "    .dataframe thead th {\n",
       "        text-align: right;\n",
       "    }\n",
       "</style>\n",
       "<table border=\"1\" class=\"dataframe\">\n",
       "  <thead>\n",
       "    <tr style=\"text-align: right;\">\n",
       "      <th></th>\n",
       "      <th>peak</th>\n",
       "      <th>gene</th>\n",
       "      <th>peaktype</th>\n",
       "      <th>sequence</th>\n",
       "      <th>chrom</th>\n",
       "      <th>cell_type</th>\n",
       "    </tr>\n",
       "  </thead>\n",
       "  <tbody>\n",
       "    <tr>\n",
       "      <th>10575</th>\n",
       "      <td>chr10:102351838-102352742</td>\n",
       "      <td>NFKB2</td>\n",
       "      <td>distal</td>\n",
       "      <td>ATAGGTTCTACGGACTCTGCTGCTAACCCCAGTGGGTGCCCACCTA...</td>\n",
       "      <td>chr10</td>\n",
       "      <td>ct1</td>\n",
       "    </tr>\n",
       "    <tr>\n",
       "      <th>10574</th>\n",
       "      <td>chr10:102351838-102352742</td>\n",
       "      <td>GBF1</td>\n",
       "      <td>distal</td>\n",
       "      <td>ATAGGTTCTACGGACTCTGCTGCTAACCCCAGTGGGTGCCCACCTA...</td>\n",
       "      <td>chr10</td>\n",
       "      <td>ct2</td>\n",
       "    </tr>\n",
       "    <tr>\n",
       "      <th>10614</th>\n",
       "      <td>chr10:102583537-102584442</td>\n",
       "      <td>SUFU</td>\n",
       "      <td>distal</td>\n",
       "      <td>TTTTGGTCATTCTGGTTCAAACAGTTTGGGTTTGCACAGTATTTTA...</td>\n",
       "      <td>chr10</td>\n",
       "      <td>ct2</td>\n",
       "    </tr>\n",
       "    <tr>\n",
       "      <th>10613</th>\n",
       "      <td>chr10:102583537-102584442</td>\n",
       "      <td>TRIM8</td>\n",
       "      <td>distal</td>\n",
       "      <td>TTTTGGTCATTCTGGTTCAAACAGTTTGGGTTTGCACAGTATTTTA...</td>\n",
       "      <td>chr10</td>\n",
       "      <td>ct2</td>\n",
       "    </tr>\n",
       "    <tr>\n",
       "      <th>10616</th>\n",
       "      <td>chr10:102612096-102612573</td>\n",
       "      <td>SUFU</td>\n",
       "      <td>distal</td>\n",
       "      <td>CCTAGCCCACACAAATAATTCATGCTTCTGCATCGATGTCCAGAAG...</td>\n",
       "      <td>chr10</td>\n",
       "      <td>ct2</td>\n",
       "    </tr>\n",
       "    <tr>\n",
       "      <th>...</th>\n",
       "      <td>...</td>\n",
       "      <td>...</td>\n",
       "      <td>...</td>\n",
       "      <td>...</td>\n",
       "      <td>...</td>\n",
       "      <td>...</td>\n",
       "    </tr>\n",
       "    <tr>\n",
       "      <th>78302</th>\n",
       "      <td>chrX:7088738-7089655</td>\n",
       "      <td>STS</td>\n",
       "      <td>distal</td>\n",
       "      <td>TACTAACCCCTGATCCCTTTTTTAAATCCCTTGCAGAGAATTATTA...</td>\n",
       "      <td>chrX</td>\n",
       "      <td>ct2</td>\n",
       "    </tr>\n",
       "    <tr>\n",
       "      <th>78304</th>\n",
       "      <td>chrX:7147781-7148691</td>\n",
       "      <td>PUDP</td>\n",
       "      <td>promoter</td>\n",
       "      <td>CCCCACGCGCGGGCCGCCGACCGGAAGCGGGTGCTGGGGCCGCGTA...</td>\n",
       "      <td>chrX</td>\n",
       "      <td>ct2</td>\n",
       "    </tr>\n",
       "    <tr>\n",
       "      <th>78305</th>\n",
       "      <td>chrX:7147781-7148691</td>\n",
       "      <td>STS</td>\n",
       "      <td>promoter</td>\n",
       "      <td>CCCCACGCGCGGGCCGCCGACCGGAAGCGGGTGCTGGGGCCGCGTA...</td>\n",
       "      <td>chrX</td>\n",
       "      <td>ct2</td>\n",
       "    </tr>\n",
       "    <tr>\n",
       "      <th>79309</th>\n",
       "      <td>chrX:97563305-97564208</td>\n",
       "      <td>DIAPH2</td>\n",
       "      <td>distal</td>\n",
       "      <td>TTTGGCAGATTAATCCTTCAGTTTTATCCCTTCAGAGGTATGAGAG...</td>\n",
       "      <td>chrX</td>\n",
       "      <td>ct2</td>\n",
       "    </tr>\n",
       "    <tr>\n",
       "      <th>79308</th>\n",
       "      <td>chrX:97563305-97564208</td>\n",
       "      <td>DIAPH2-AS1</td>\n",
       "      <td>distal</td>\n",
       "      <td>TTTGGCAGATTAATCCTTCAGTTTTATCCCTTCAGAGGTATGAGAG...</td>\n",
       "      <td>chrX</td>\n",
       "      <td>ct2</td>\n",
       "    </tr>\n",
       "  </tbody>\n",
       "</table>\n",
       "<p>2683 rows × 6 columns</p>\n",
       "</div>"
      ],
      "text/plain": [
       "                            peak        gene  peaktype  \\\n",
       "10575  chr10:102351838-102352742       NFKB2    distal   \n",
       "10574  chr10:102351838-102352742        GBF1    distal   \n",
       "10614  chr10:102583537-102584442        SUFU    distal   \n",
       "10613  chr10:102583537-102584442       TRIM8    distal   \n",
       "10616  chr10:102612096-102612573        SUFU    distal   \n",
       "...                          ...         ...       ...   \n",
       "78302       chrX:7088738-7089655         STS    distal   \n",
       "78304       chrX:7147781-7148691        PUDP  promoter   \n",
       "78305       chrX:7147781-7148691         STS  promoter   \n",
       "79309     chrX:97563305-97564208      DIAPH2    distal   \n",
       "79308     chrX:97563305-97564208  DIAPH2-AS1    distal   \n",
       "\n",
       "                                                sequence  chrom cell_type  \n",
       "10575  ATAGGTTCTACGGACTCTGCTGCTAACCCCAGTGGGTGCCCACCTA...  chr10       ct1  \n",
       "10574  ATAGGTTCTACGGACTCTGCTGCTAACCCCAGTGGGTGCCCACCTA...  chr10       ct2  \n",
       "10614  TTTTGGTCATTCTGGTTCAAACAGTTTGGGTTTGCACAGTATTTTA...  chr10       ct2  \n",
       "10613  TTTTGGTCATTCTGGTTCAAACAGTTTGGGTTTGCACAGTATTTTA...  chr10       ct2  \n",
       "10616  CCTAGCCCACACAAATAATTCATGCTTCTGCATCGATGTCCAGAAG...  chr10       ct2  \n",
       "...                                                  ...    ...       ...  \n",
       "78302  TACTAACCCCTGATCCCTTTTTTAAATCCCTTGCAGAGAATTATTA...   chrX       ct2  \n",
       "78304  CCCCACGCGCGGGCCGCCGACCGGAAGCGGGTGCTGGGGCCGCGTA...   chrX       ct2  \n",
       "78305  CCCCACGCGCGGGCCGCCGACCGGAAGCGGGTGCTGGGGCCGCGTA...   chrX       ct2  \n",
       "79309  TTTGGCAGATTAATCCTTCAGTTTTATCCCTTCAGAGGTATGAGAG...   chrX       ct2  \n",
       "79308  TTTGGCAGATTAATCCTTCAGTTTTATCCCTTCAGAGGTATGAGAG...   chrX       ct2  \n",
       "\n",
       "[2683 rows x 6 columns]"
      ]
     },
     "execution_count": 21,
     "metadata": {},
     "output_type": "execute_result"
    }
   ],
   "source": [
    "temp = full_data.copy()\n",
    "\n",
    "temp['chrom'] = temp['peak'].apply(lambda x: x.split(':')[0])\n",
    "temp  = temp[temp['chrom'].str.contains('chr')]\n",
    "ids = temp[\"peak\"]\n",
    "temp[ids.isin(ids[ids.duplicated()])].sort_values(\"peak\")"
   ]
  },
  {
   "cell_type": "code",
   "execution_count": 77,
   "metadata": {},
   "outputs": [
    {
     "data": {
      "text/html": [
       "<div>\n",
       "<style scoped>\n",
       "    .dataframe tbody tr th:only-of-type {\n",
       "        vertical-align: middle;\n",
       "    }\n",
       "\n",
       "    .dataframe tbody tr th {\n",
       "        vertical-align: top;\n",
       "    }\n",
       "\n",
       "    .dataframe thead th {\n",
       "        text-align: right;\n",
       "    }\n",
       "</style>\n",
       "<table border=\"1\" class=\"dataframe\">\n",
       "  <thead>\n",
       "    <tr style=\"text-align: right;\">\n",
       "      <th></th>\n",
       "      <th>index</th>\n",
       "    </tr>\n",
       "    <tr>\n",
       "      <th>cell_type</th>\n",
       "      <th></th>\n",
       "    </tr>\n",
       "  </thead>\n",
       "  <tbody>\n",
       "    <tr>\n",
       "      <th>0</th>\n",
       "      <td>5284</td>\n",
       "    </tr>\n",
       "    <tr>\n",
       "      <th>1</th>\n",
       "      <td>17496</td>\n",
       "    </tr>\n",
       "    <tr>\n",
       "      <th>2</th>\n",
       "      <td>3393</td>\n",
       "    </tr>\n",
       "    <tr>\n",
       "      <th>3</th>\n",
       "      <td>2615</td>\n",
       "    </tr>\n",
       "    <tr>\n",
       "      <th>4</th>\n",
       "      <td>2173</td>\n",
       "    </tr>\n",
       "  </tbody>\n",
       "</table>\n",
       "</div>"
      ],
      "text/plain": [
       "           index\n",
       "cell_type       \n",
       "0           5284\n",
       "1          17496\n",
       "2           3393\n",
       "3           2615\n",
       "4           2173"
      ]
     },
     "execution_count": 77,
     "metadata": {},
     "output_type": "execute_result"
    }
   ],
   "source": [
    "temp = full_data.copy()\n",
    "temp['index'] = temp.index\n",
    "temp[['index','cell_type']].groupby('cell_type').count()"
   ]
  },
  {
   "cell_type": "code",
   "execution_count": 36,
   "metadata": {},
   "outputs": [
    {
     "name": "stderr",
     "output_type": "stream",
     "text": [
      "100%|██████████| 4/4 [00:01<00:00,  3.94it/s]\n"
     ]
    },
    {
     "data": {
      "text/plain": [
       "{('ct1', 'ct1'): (0.0, 862.8865, 862.8865),\n",
       " ('ct1', 'ct2'): (486.1105, 862.8865, 862.52),\n",
       " ('ct1', 'ct3'): (484.8595, 862.8865, 866.0805),\n",
       " ('ct1', 'ct4'): (482.267, 862.8865, 863.703),\n",
       " ('ct2', 'ct1'): (486.1105, 862.52, 862.8865),\n",
       " ('ct2', 'ct2'): (0.0, 862.52, 862.52),\n",
       " ('ct2', 'ct3'): (484.401, 862.52, 866.0805),\n",
       " ('ct2', 'ct4'): (483.832, 862.52, 863.703),\n",
       " ('ct3', 'ct1'): (484.8595, 866.0805, 862.8865),\n",
       " ('ct3', 'ct2'): (484.401, 866.0805, 862.52),\n",
       " ('ct3', 'ct3'): (0.0, 866.0805, 866.0805),\n",
       " ('ct3', 'ct4'): (484.202, 866.0805, 863.703),\n",
       " ('ct4', 'ct1'): (482.267, 863.703, 862.8865),\n",
       " ('ct4', 'ct2'): (483.832, 863.703, 862.52),\n",
       " ('ct4', 'ct3'): (484.202, 863.703, 866.0805),\n",
       " ('ct4', 'ct4'): (0.0, 863.703, 863.703)}"
      ]
     },
     "execution_count": 36,
     "metadata": {},
     "output_type": "execute_result"
    }
   ],
   "source": [
    "from tqdm import tqdm\n",
    "import numpy as np\n",
    "from Levenshtein import distance as levenshtein_distance\n",
    "def levenshtein_distance_vectorized(series1, series2):\n",
    "    vfunc = np.vectorize(levenshtein_distance)\n",
    "    return vfunc(series1, series2)\n",
    "\n",
    "result = {}\n",
    "for cell_type1, subset1 in tqdm(full_data.groupby('cell_type')):\n",
    "    subset1 = subset1.head(2000)\n",
    "    seq_len1 = subset1['sequence'].apply(lambda x: len(x))\n",
    "    avg_len1 = sum(seq_len1)/len(seq_len1)\n",
    "\n",
    "    for cell_type2, subset2 in full_data.groupby('cell_type'):\n",
    "        subset2 = subset2.head(2000)\n",
    "        temp = levenshtein_distance_vectorized(subset1['sequence'], subset2['sequence'])\n",
    "\n",
    "        seq_len2 = subset2['sequence'].apply(lambda x: len(x))\n",
    "        avg_len2 = sum(seq_len2)/len(seq_len2)\n",
    "        \n",
    "        result[(cell_type1,cell_type2)] = (sum(temp)/len(temp), avg_len1, avg_len2)\n",
    "        \n",
    "result"
   ]
  },
  {
   "cell_type": "code",
   "execution_count": null,
   "metadata": {},
   "outputs": [],
   "source": []
  }
 ],
 "metadata": {
  "kernelspec": {
   "display_name": "Python 3",
   "language": "python",
   "name": "python3"
  },
  "language_info": {
   "codemirror_mode": {
    "name": "ipython",
    "version": 3
   },
   "file_extension": ".py",
   "mimetype": "text/x-python",
   "name": "python",
   "nbconvert_exporter": "python",
   "pygments_lexer": "ipython3",
   "version": "3.10.12"
  }
 },
 "nbformat": 4,
 "nbformat_minor": 2
}
